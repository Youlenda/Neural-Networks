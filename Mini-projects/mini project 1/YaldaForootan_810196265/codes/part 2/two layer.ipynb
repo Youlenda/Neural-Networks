{
 "cells": [
  {
   "cell_type": "code",
   "execution_count": 2,
   "metadata": {
    "colab": {
     "base_uri": "https://localhost:8080/",
     "height": 210
    },
    "colab_type": "code",
    "executionInfo": {
     "elapsed": 3799,
     "status": "ok",
     "timestamp": 1574603762450,
     "user": {
      "displayName": "Yalda Foroutan",
      "photoUrl": "https://lh3.googleusercontent.com/a-/AAuE7mASdVBEIWnqUTMgQ9abZF1fsy1iUTb1rFGU9idwGg=s64",
      "userId": "14197424508935332030"
     },
     "user_tz": -210
    },
    "id": "C3tI-WCO4hYH",
    "outputId": "680a3272-6f15-40c7-9666-8f360b7d5006"
   },
   "outputs": [
    {
     "name": "stderr",
     "output_type": "stream",
     "text": [
      "Using TensorFlow backend.\n"
     ]
    },
    {
     "name": "stdout",
     "output_type": "stream",
     "text": [
      "Downloading data from https://storage.googleapis.com/tensorflow/tf-keras-datasets/train-labels-idx1-ubyte.gz\n",
      "32768/29515 [=================================] - 0s 4us/step\n",
      "Downloading data from https://storage.googleapis.com/tensorflow/tf-keras-datasets/train-images-idx3-ubyte.gz\n",
      "26427392/26421880 [==============================] - 30s 1us/step\n",
      "Downloading data from https://storage.googleapis.com/tensorflow/tf-keras-datasets/t10k-labels-idx1-ubyte.gz\n",
      "8192/5148 [===============================================] - 0s 0us/step\n",
      "Downloading data from https://storage.googleapis.com/tensorflow/tf-keras-datasets/t10k-images-idx3-ubyte.gz\n",
      "4423680/4422102 [==============================] - 7s 1us/step\n"
     ]
    }
   ],
   "source": [
    "import tensorflow as tf\n",
    "from keras.datasets import fashion_mnist\n",
    "\n",
    "mnist = tf.keras.datasets.fashion_mnist\n",
    "(train_img, train_lbl), (test_img, test_lbl) = mnist.load_data()\n",
    "\n",
    "train_img  = train_img .reshape(60000, 784)\n",
    "test_img  = test_img.reshape (10000, 784)\n",
    "\n",
    "train_img = train_img/255\n",
    "test_img = test_img/255"
   ]
  },
  {
   "cell_type": "code",
   "execution_count": null,
   "metadata": {
    "colab": {
     "base_uri": "https://localhost:8080/",
     "height": 137
    },
    "colab_type": "code",
    "executionInfo": {
     "elapsed": 3795,
     "status": "ok",
     "timestamp": 1574603762452,
     "user": {
      "displayName": "Yalda Foroutan",
      "photoUrl": "https://lh3.googleusercontent.com/a-/AAuE7mASdVBEIWnqUTMgQ9abZF1fsy1iUTb1rFGU9idwGg=s64",
      "userId": "14197424508935332030"
     },
     "user_tz": -210
    },
    "id": "Z_w-BShE4kdG",
    "outputId": "ab61e2f4-3890-4344-e120-05f030aff876"
   },
   "outputs": [],
   "source": [
    "from keras.models import Sequential\n",
    "from keras.layers import Dense, Flatten\n",
    "\n",
    "model = Sequential([\n",
    "    Dense(256, activation='relu', input_shape=(784, )),\n",
    "    Dense(32, activation='relu'),\n",
    "    Dense(10, activation='softmax')])"
   ]
  },
  {
   "cell_type": "code",
   "execution_count": null,
   "metadata": {
    "colab": {
     "base_uri": "https://localhost:8080/",
     "height": 336
    },
    "colab_type": "code",
    "executionInfo": {
     "elapsed": 3787,
     "status": "ok",
     "timestamp": 1574603762453,
     "user": {
      "displayName": "Yalda Foroutan",
      "photoUrl": "https://lh3.googleusercontent.com/a-/AAuE7mASdVBEIWnqUTMgQ9abZF1fsy1iUTb1rFGU9idwGg=s64",
      "userId": "14197424508935332030"
     },
     "user_tz": -210
    },
    "id": "izH45OsB4my8",
    "outputId": "302bc788-67ab-4b9d-b900-0208d3828ed2"
   },
   "outputs": [],
   "source": [
    "from keras import optimizers\n",
    "\n",
    "model.compile(optimizer ='adam', loss = 'sparse_categorical_crossentropy', metrics = ['accuracy'])\n",
    "model.summary()"
   ]
  },
  {
   "cell_type": "code",
   "execution_count": null,
   "metadata": {
    "colab": {
     "base_uri": "https://localhost:8080/",
     "height": 1000
    },
    "colab_type": "code",
    "executionInfo": {
     "elapsed": 475164,
     "status": "ok",
     "timestamp": 1574604233836,
     "user": {
      "displayName": "Yalda Foroutan",
      "photoUrl": "https://lh3.googleusercontent.com/a-/AAuE7mASdVBEIWnqUTMgQ9abZF1fsy1iUTb1rFGU9idwGg=s64",
      "userId": "14197424508935332030"
     },
     "user_tz": -210
    },
    "id": "BYeoSOBv4oMs",
    "outputId": "a0dd40a8-7795-46b6-fbde-135930a13cfa"
   },
   "outputs": [],
   "source": [
    "import timeit\n",
    "\n",
    "tic = timeit.default_timer()\n",
    "trained_model = model.fit(train_img, train_lbl, batch_size=32, epochs=50,  verbose=1, validation_data=(test_img, test_lbl))\n",
    "toc = timeit.default_timer()\n",
    "\n",
    "print('Time: ', toc - tic) "
   ]
  },
  {
   "cell_type": "code",
   "execution_count": null,
   "metadata": {
    "colab": {},
    "colab_type": "code",
    "id": "UzEmWic54qMX"
   },
   "outputs": [],
   "source": [
    "history = trained_model.history\n",
    "acc_val = history['val_acc']\n",
    "acc_tra = history['acc']"
   ]
  },
  {
   "cell_type": "code",
   "execution_count": null,
   "metadata": {
    "colab": {
     "base_uri": "https://localhost:8080/",
     "height": 277
    },
    "colab_type": "code",
    "executionInfo": {
     "elapsed": 1200,
     "status": "ok",
     "timestamp": 1574605268984,
     "user": {
      "displayName": "Yalda Foroutan",
      "photoUrl": "https://lh3.googleusercontent.com/a-/AAuE7mASdVBEIWnqUTMgQ9abZF1fsy1iUTb1rFGU9idwGg=s64",
      "userId": "14197424508935332030"
     },
     "user_tz": -210
    },
    "id": "YhnwK7PC4qSI",
    "outputId": "b3c7c610-7c9c-4745-9460-dc090677a75e"
   },
   "outputs": [],
   "source": [
    "import matplotlib.pyplot as plt\n",
    "\n",
    "plt.xlabel('Epochs')\n",
    "plt.ylabel('Accuracy')\n",
    "plt.plot(acc_val, 'darkred')\n",
    "plt.plot(acc_tra, 'darkblue')\n",
    "plt.legend(['Validation','Training'])\n",
    "plt.grid(c='lightgrey')\n",
    "plt.show()"
   ]
  },
  {
   "cell_type": "code",
   "execution_count": null,
   "metadata": {},
   "outputs": [],
   "source": []
  }
 ],
 "metadata": {
  "accelerator": "GPU",
  "colab": {
   "collapsed_sections": [],
   "name": "two layer.ipynb",
   "provenance": []
  },
  "kernelspec": {
   "display_name": "Python 3",
   "language": "python",
   "name": "python3"
  },
  "language_info": {
   "codemirror_mode": {
    "name": "ipython",
    "version": 3
   },
   "file_extension": ".py",
   "mimetype": "text/x-python",
   "name": "python",
   "nbconvert_exporter": "python",
   "pygments_lexer": "ipython3",
   "version": "3.7.4"
  }
 },
 "nbformat": 4,
 "nbformat_minor": 1
}
