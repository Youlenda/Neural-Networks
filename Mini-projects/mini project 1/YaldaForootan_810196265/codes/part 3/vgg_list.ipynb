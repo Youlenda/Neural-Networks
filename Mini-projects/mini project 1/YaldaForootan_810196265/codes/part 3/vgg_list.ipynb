{
  "nbformat": 4,
  "nbformat_minor": 0,
  "metadata": {
    "colab": {
      "name": "vgg-list.ipynb",
      "provenance": [],
      "collapsed_sections": []
    },
    "kernelspec": {
      "name": "python3",
      "display_name": "Python 3"
    },
    "accelerator": "GPU"
  },
  "cells": [
    {
      "cell_type": "code",
      "metadata": {
        "id": "AuHBD4BC-KTF",
        "colab_type": "code",
        "colab": {}
      },
      "source": [
        "import tensorflow as tf"
      ],
      "execution_count": 0,
      "outputs": []
    },
    {
      "cell_type": "code",
      "metadata": {
        "id": "BVG1l2n_-QIl",
        "colab_type": "code",
        "colab": {}
      },
      "source": [
        "from keras.preprocessing.image import load_img\n",
        "from keras.preprocessing.image import img_to_array\n",
        "import numpy as np\n",
        "\n",
        "image = load_img('cat.jpg', target_size=(224, 224))\n",
        "image = img_to_array(image)\n",
        "image = image.reshape((1, image.shape[0], image.shape[1], image.shape[2]))"
      ],
      "execution_count": 0,
      "outputs": []
    },
    {
      "cell_type": "code",
      "metadata": {
        "id": "KznXQorA-TBS",
        "colab_type": "code",
        "colab": {}
      },
      "source": [
        "from keras.applications.vgg16 import VGG16\n",
        "\n",
        "model = VGG16()\n",
        "#model.summary()"
      ],
      "execution_count": 0,
      "outputs": []
    },
    {
      "cell_type": "code",
      "metadata": {
        "id": "W0F9kBLN-VCB",
        "colab_type": "code",
        "colab": {
          "base_uri": "https://localhost:8080/",
          "height": 54
        },
        "outputId": "27e9cec4-da0b-4e74-de21-628efb07fb0b"
      },
      "source": [
        "from keras.applications.vgg16 import preprocess_input\n",
        "from keras.applications.vgg16 import decode_predictions\n",
        "\n",
        "image = preprocess_input(image)\n",
        "predict_label = model.predict(image)\n",
        "labels = decode_predictions(predict_label, top=1000)[0]\n",
        "names=[y for (x,y,z) in labels]\n",
        "print(names)"
      ],
      "execution_count": 13,
      "outputs": [
        {
          "output_type": "stream",
          "text": [
            "['Egyptian_cat', 'tiger_cat', 'tabby', 'lynx', 'bow_tie', 'vase', 'remote_control', 'radiator', 'carton', 'feather_boa', 'great_grey_owl', 'window_screen', 'sock', 'bath_towel', 'space_heater', 'goblet', 'pillow', 'pitcher', 'quilt', 'lampshade', 'table_lamp', 'paper_towel', 'plastic_bag', 'velvet', 'spotlight', 'window_shade', 'ping-pong_ball', 'bonnet', 'candle', 'cup', 'screen', 'toilet_tissue', 'punching_bag', 'mouse', 'Christmas_stocking', 'cleaver', 'shower_cap', 'iPod', 'tub', 'lens_cap', 'jean', 'hummingbird', 'Siamese_cat', 'doormat', 'washer', 'monitor', 'hatchet', 'water_bottle', 'refrigerator', 'television', 'wall_clock', 'mailbag', 'cowboy_hat', 'syringe', 'bucket', 'computer_keyboard', 'coffee_mug', 'hook', 'crossword_puzzle', 'notebook', 'brassiere', 'cowboy_boot', 'washbasin', 'dumbbell', 'bathtub', 'studio_couch', 'beer_glass', 'shower_curtain', 'sweatshirt', 'cloak', 'mask', 'maillot', 'beer_bottle', 'prairie_chicken', 'tennis_ball', 'swab', 'pajama', 'apron', 'printer', 'broccoli', 'umbrella', 'gown', 'soap_dispenser', 'letter_opener', 'lighter', 'caldron', 'sleeping_bag', 'buckle', 'hard_disc', 'red_wine', 'Persian_cat', 'mixing_bowl', 'basenji', 'iron', 'rubber_eraser', 'plunger', 'laptop', 'ear', 'switch', 'hammer', 'torch', 'bookcase', 'barometer', 'breastplate', 'cellular_telephone', 'purse', 'wine_bottle', 'screw', 'scale', 'radio', 'pinwheel', 'fountain_pen', 'thimble', 'spatula', 'mitten', \"jack-o'-lantern\", 'drumstick', 'screwdriver', 'triceratops', 'packet', 'sombrero', 'pool_table', 'power_drill', 'water_jug', 'perfume', 'standard_schnauzer', 'ski_mask', 'rule', 'bib', 'running_shoe', 'teapot', 'Windsor_tie', 'pineapple', 'necklace', 'wooden_spoon', 'backpack', 'pop_bottle', 'photocopier', 'hamper', 'desktop_computer', 'hair_spray', 'saltshaker', 'paintbrush', 'bottlecap', 'corn', 'frying_pan', 'miniskirt', 'fox_squirrel', 'ruffed_grouse', 'matchstick', 'conch', 'suit', 'totem_pole', 'abacus', 'jigsaw_puzzle', 'green_lizard', 'pedestal', 'mortarboard', 'dishwasher', 'miniature_schnauzer', 'sarong', 'mousetrap', 'wig', 'fur_coat', 'shield', 'maillot', 'stole', 'diaper', 'seat_belt', 'toilet_seat', 'sunscreen', 'shoji', 'microwave', 'cock', 'prayer_rug', 'Boston_bull', 'safety_pin', 'armadillo', 'Yorkshire_terrier', 'alligator_lizard', 'miniature_pinscher', 'hourglass', 'ice_lolly', 'leopard', 'cicada', 'broom', 'dishrag', 'robin', 'ashcan', 'sliding_door', 'wood_rabbit', 'cougar', 'acoustic_guitar', 'zebra', 'sundial', 'kimono', 'four-poster', 'loudspeaker', 'bolo_tie', 'projector', 'mantis', 'wallet', 'hare', 'marmoset', 'wool', 'handkerchief', 'Band_Aid', 'chime', 'kelpie', 'tiger', 'bow', 'meerkat', 'poncho', 'snow_leopard', 'sunglasses', 'chain_mail', 'beaker', 'modem', 'crib', 'lycaenid', 'wok', 'bannister', 'pick', 'military_uniform', 'digital_clock', 'kite', 'wombat', 'balance_beam', 'common_iguana', 'maraca', 'zucchini', 'book_jacket', 'piggy_bank', 'Ibizan_hound', 'grey_fox', 'crate', 'ladle', 'knee_pad', 'giant_schnauzer', 'mortar', 'lotion', 'envelope', 'loupe', 'Angora', 'nail', 'pole', 'knot', 'Weimaraner', 'Italian_greyhound', 'can_opener', 'puffer', 'harmonica', 'Doberman', 'cardigan', 'comic_book', 'theater_curtain', 'Chihuahua', 'panpipe', 'crayfish', 'peacock', 'orange', 'altar', 'slide_rule', 'eggnog', 'Crock_Pot', 'throne', 'African_grey', 'strainer', 'bluetick', 'burrito', 'grand_piano', 'vacuum', 'banana', 'lacewing', 'pill_bottle', 'coil', 'slug', 'joystick', 'scabbard', 'sewing_machine', 'vestment', 'tray', 'guacamole', 'fountain', 'soccer_ball', 'silky_terrier', 'traffic_light', 'centipede', 'mongoose', 'cocktail_shaker', 'Norwich_terrier', 'wardrobe', 'toy_terrier', 'analog_clock', 'trench_coat', 'electric_guitar', 'medicine_chest', 'chain', 'hand_blower', 'balloon', 'abaya', 'home_theater', 'Eskimo_dog', 'picket_fence', 'horned_viper', 'stove', 'honeycomb', 'German_short-haired_pointer', 'pencil_box', 'microphone', 'cabbage_butterfly', 'lipstick', 'overskirt', 'spindle', 'horizontal_bar', 'jersey', 'cassette', 'soup_bowl', 'bustard', 'dalmatian', 'grasshopper', 'Scotch_terrier', 'swimming_trunks', 'macaw', 'walking_stick', 'barrel', 'American_chameleon', 'binder', 'admiral', 'jay', 'lorikeet', 'nipple', 'bikini', 'cuirass', 'reflex_camera', 'revolver', 'bookshop', 'coffeepot', 'titi', 'partridge', 'obelisk', 'stethoscope', 'hip', 'junco', 'bassinet', 'sunglass', 'corkscrew', 'rain_barrel', 'academic_gown', 'ringlet', 'cradle', 'hoopskirt', 'bubble', 'French_horn', 'mailbox', 'agama', 'motor_scooter', 'Kerry_blue_terrier', 'frilled_lizard', 'toaster', 'French_bulldog', 'parallel_bars', 'hen', 'gasmask', 'Granny_Smith', 'rocking_chair', 'water_ouzel', 'barbell', 'butternut_squash', 'combination_lock', 'gar', 'car_mirror', 'terrapin', 'ballpoint', 'file', 'church', 'head_cabbage', 'West_Highland_white_terrier', 'fire_screen', 'digital_watch', 'acorn', 'electric_fan', 'box_turtle', 'quill', 'Airedale', 'spider_web', 'African_chameleon', 'crash_helmet', 'rugby_ball', 'sulphur_butterfly', 'weasel', 'lemon', 'chest', 'dining_table', 'banjo', 'hay', 'wallaby', 'barracouta', 'magnetic_compass', 'baseball', 'Brittany_spaniel', 'Mexican_hairless', 'jaguar', 'cauliflower', 'measuring_cup', 'birdhouse', 'brass', 'fly', 'library', 'coyote', 'Polaroid_camera', 'Madagascar_cat', 'tile_roof', 'parking_meter', 'schipperke', 'oboe', 'violin', 'Bouvier_des_Flandres', 'pot', 'gong', 'whiptail', 'cucumber', 'ocarina', 'cricket', 'Siberian_husky', 'web_site', 'coho', 'tripod', 'cocker_spaniel', 'lab_coat', 'oscilloscope', 'hand-held_computer', 'black-footed_ferret', 'bearskin', 'bull_mastiff', 'Norwegian_elkhound', 'teddy', 'Australian_terrier', 'starfish', 'American_Staffordshire_terrier', 'black_grouse', 'barrow', 'bathing_cap', 'maze', 'hamster', 'padlock', 'chambered_nautilus', 'car_wheel', 'snail', 'grille', 'unicycle', 'CD_player', 'swing', 'flagpole', 'pencil_sharpener', 'mosque', 'vine_snake', 'street_sign', 'shopping_basket', 'magpie', 'vizsla', 'barn_spider', 'folding_chair', 'kit_fox', 'upright', 'shovel', 'holster', 'sandal', 'racket', 'bulletproof_vest', 'house_finch', 'projectile', 'bell_pepper', 'ice_cream', 'basset', 'vulture', 'face_powder', 'indri', 'guenon', 'hognose_snake', 'bassoon', 'pretzel', 'trilobite', 'boxer', 'guillotine', 'spiny_lobster', 'electric_ray', 'strawberry', 'Cardigan', 'dough', 'mosquito_net', 'toy_poodle', 'neck_brace', 'beagle', 'Great_Dane', 'crutch', 'drum', 'albatross', 'plate_rack', 'clog', 'black_and_gold_garden_spider', 'cornet', 'guinea_pig', 'stopwatch', 'bittern', 'hair_slide', 'Rottweiler', 'quail', 'greenhouse', 'flute', 'Lakeland_terrier', 'stupa', 'safe', 'waffle_iron', 'vault', 'muzzle', 'sea_urchin', 'black-and-tan_coonhound', 'cinema', 'English_setter', 'nematode', 'long-horned_beetle', 'macaque', 'desk', 'vending_machine', 'pickelhaube', 'pomegranate', 'dial_telephone', 'tiger_shark', 'bulbul', 'redbone', 'mink', 'tape_player', 'chainlink_fence', 'redshank', 'jackfruit', 'buckeye', 'fig', 'cassette_player', 'reel', 'whippet', 'jacamar', 'sea_lion', 'ballplayer', 'Border_terrier', 'espresso', 'king_penguin', 'dragonfly', 'milk_can', 'dome', 'koala', 'green_mamba', 'bald_eagle', 'espresso_maker', 'paddle', 'chimpanzee', 'restaurant', 'accordion', 'banded_gecko', 'Bedlington_terrier', 'harp', 'hermit_crab', 'pug', 'plate', 'goose', 'worm_fence', 'daisy', 'cab', 'bee', 'affenpinscher', 'carousel', 'rock_beauty', 'polecat', 'golf_ball', 'Loafer', 'American_lobster', 'barbershop', 'sea_slug', 'whiskey_jug', 'prison', 'Border_collie', 'night_snake', 'shoe_shop', 'orangutan', 'whistle', 'sax', 'rifle', 'Gordon_setter', 'Norfolk_terrier', 'castle', 'binoculars', 'oxygen_mask', 'entertainment_center', 'cello', 'cheetah', 'ibex', 'ladybug', 'stretcher', 'cardoon', 'monarch', 'timber_wolf', \"yellow_lady's_slipper\", 'chiffonier', 'turnstile', \"carpenter's_kit\", 'collie', 'anemone_fish', 'china_cabinet', 'tobacco_shop', 'Appenzeller', 'mashed_potato', 'crane', 'trombone', 'pizza', 'chocolate_sauce', 'grocery_store', 'red_fox', 'triumphal_arch', 'cannon', 'tree_frog', 'goldfish', 'Welsh_springer_spaniel', 'scorpion', 'great_white_shark', 'English_springer', 'siamang', 'football_helmet', 'wing', 'butcher_shop', 'harvestman', 'German_shepherd', 'Labrador_retriever', 'spaghetti_squash', 'park_bench', 'squirrel_monkey', 'stage', 'Shih-Tzu', 'basketball', 'hammerhead', 'oil_filter', 'moped', 'ski', 'marimba', 'mud_turtle', 'malamute', 'African_crocodile', 'diamondback', 'pirate', 'skunk', 'patio', 'Bernese_mountain_dog', 'tricycle', 'black_widow', 'brambling', 'viaduct', 'bloodhound', 'trifle', 'red-backed_sandpiper', 'sidewinder', 'lawn_mower', 'bullet_train', 'Pembroke', 'dingo', 'missile', 'lionfish', 'red_wolf', 'wire-haired_fox_terrier', 'toucan', 'papillon', 'shopping_cart', 'crane', 'Pekinese', 'hartebeest', 'Dungeness_crab', 'custard_apple', 'Old_English_sheepdog', 'leatherback_turtle', 'hotdog', 'Lhasa', 'miniature_poodle', 'leafhopper', \"potter's_wheel\", 'wolf_spider', 'carbonara', 'American_alligator', 'garden_spider', 'platypus', 'Japanese_spaniel', 'rapeseed', 'bee_eater', 'hornbill', 'otter', 'lion', 'space_bar', 'Greater_Swiss_Mountain_dog', 'streetcar', 'typewriter_keyboard', 'flatworm', 'acorn_squash', 'parachute', 'cairn', 'rhinoceros_beetle', 'cash_machine', 'badger', 'menu', 'malinois', 'monastery', 'palace', 'assault_rifle', 'suspension_bridge', 'Sealyham_terrier', 'gazelle', 'confectionery', 'groenendael', 'red-breasted_merganser', 'sturgeon', 'American_egret', 'slot', 'flat-coated_retriever', 'pier', 'coral_fungus', 'goldfinch', 'Staffordshire_bullterrier', 'Chesapeake_Bay_retriever', 'black_swan', 'stone_wall', 'dock', 'meat_loaf', 'green_snake', 'Brabancon_griffon', 'mushroom', 'potpie', 'sports_car', 'thatch', 'Blenheim_spaniel', 'Irish_water_spaniel', 'Maltese_dog', 'space_shuttle', 'schooner', 'odometer', 'ptarmigan', 'Walker_hound', 'rotisserie', 'Rhodesian_ridgeback', 'soft-coated_wheaten_terrier', 'half_track', 'stinkhorn', 'container_ship', 'megalith', 'gorilla', 'bullfrog', 'liner', 'porcupine', 'forklift', 'consomme', 'tick', 'cockroach', 'Shetland_sheepdog', 'limousine', 'trailer_truck', 'Pomeranian', 'king_snake', 'freight_car', 'European_gallinule', 'bagel', 'bell_cote', 'eel', 'sea_anemone', 'Scottish_deerhound', 'puck', 'groom', 'tank', 'recreational_vehicle', 'manhole_cover', 'hyena', 'maypole', 'curly-coated_retriever', 'jeep', 'stingray', 'brain_coral', 'sea_cucumber', 'barber_chair', 'American_coot', 'ringneck_snake', 'coucal', 'toyshop', 'organ', 'croquet_ball', 'bakery', 'English_foxhound', 'tench', 'isopod', 'seashore', 'earthstar', 'ostrich', 'impala', 'pay-phone', 'Gila_monster', 'Indian_cobra', 'Petri_dish', 'EntleBucher', 'proboscis_monkey', 'disk_brake', 'artichoke', 'chain_saw', 'borzoi', 'drake', 'boa_constrictor', 'volleyball', 'king_crab', 'Great_Pyrenees', 'ant', 'patas', 'Arctic_fox', 'tractor', 'volcano', 'otterhound', 'solar_dish', 'jinrikisha', 'Samoyed', 'cheeseburger', 'damselfly', 'spoonbill', 'warplane', 'amphibian', 'garter_snake', 'water_tower', 'Irish_wolfhound', 'oystercatcher', 'minibus', 'jellyfish', 'clumber', 'sulphur-crested_cockatoo', 'common_newt', 'gyromitra', 'American_black_bear', 'French_loaf', 'yawl', 'black_stork', 'weevil', 'snowplow', 'school_bus', 'Tibetan_terrier', 'agaric', 'trimaran', 'Dutch_oven', 'dowitcher', 'chickadee', 'rock_python', 'Irish_setter', 'white_wolf', 'three-toed_sloth', 'canoe', 'water_snake', 'scoreboard', 'limpkin', 'eft', 'tailed_frog', 'Irish_terrier', 'beaver', 'llama', 'African_elephant', 'racer', 'tarantula', 'coral_reef', 'hot_pot', 'indigo_bunting', 'spotted_salamander', 'Komodo_dragon', 'ambulance', 'kuvasz', 'golden_retriever', 'European_fire_salamander', 'Sussex_spaniel', 'radio_telescope', 'flamingo', 'minivan', 'garbage_truck', 'alp', 'wild_boar', 'passenger_car', 'breakwater', 'gondola', 'capuchin', 'catamaran', 'golfcart', 'airliner', 'howler_monkey', 'leaf_beetle', 'ox', 'beach_wagon', 'little_blue_heron', 'aircraft_carrier', 'barn', 'echidna', 'gas_pump', 'thunder_snake', 'steel_drum', 'lesser_panda', 'cliff', 'keeshond', 'mobile_home', 'chow', 'geyser', 'Saint_Bernard', 'axolotl', 'komondor', 'hippopotamus', 'ruddy_turnstone', 'lumbermill', 'colobus', 'Saluki', 'hog', 'pickup', 'Afghan_hound', 'tiger_beetle', 'ground_beetle', 'pelican', 'chiton', 'Newfoundland', 'moving_van', 'loggerhead', 'beacon', 'ram', 'langur', 'snorkel', 'dhole', 'police_van', 'convertible', 'sloth_bear', 'harvester', 'tow_truck', 'spider_monkey', 'sea_snake', 'standard_poodle', 'marmot', 'bighorn', 'fireboat', 'bobsled', 'Model_T', 'planetarium', 'airship', 'dugong', 'Indian_elephant', 'bolete', 'dam', 'fire_engine', 'gibbon', 'wreck', 'mountain_tent', 'apiary', 'baboon', 'brown_bear', 'grey_whale', 'hen-of-the-woods', 'valley', 'cliff_dwelling', 'African_hunting_dog', 'speedboat', 'oxcart', 'promontory', 'killer_whale', 'lakeside', 'rock_crab', 'mountain_bike', 'plane', 'submarine', 'Dandie_Dinmont', 'plow', 'Leonberg', 'sorrel', 'snowmobile', 'bicycle-built-for-two', 'paddlewheel', 'steam_locomotive', 'sandbar', 'horse_cart', 'ice_bear', 'electric_locomotive', 'lifeboat', 'briard', 'warthog', 'trolleybus', 'scuba_diver', 'drilling_platform', 'dogsled', 'giant_panda', 'Tibetan_mastiff', 'steel_arch_bridge', 'white_stork', 'thresher', 'yurt', 'boathouse', 'tusker', 'dung_beetle', 'water_buffalo', 'go-kart', 'bison', 'fiddler_crab', 'Arabian_camel']\n"
          ],
          "name": "stdout"
        }
      ]
    },
    {
      "cell_type": "code",
      "metadata": {
        "id": "RrFR0MEH-4kN",
        "colab_type": "code",
        "colab": {}
      },
      "source": [
        "with open('names_file.txt', 'w') as filehandle:\n",
        "    filehandle.writelines(\"%s, \" % place for place in names)"
      ],
      "execution_count": 0,
      "outputs": []
    }
  ]
}