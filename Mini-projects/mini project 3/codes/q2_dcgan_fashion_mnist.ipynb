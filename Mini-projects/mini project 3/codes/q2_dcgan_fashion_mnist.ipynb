{
  "nbformat": 4,
  "nbformat_minor": 0,
  "metadata": {
    "colab": {
      "name": "q2-dcgan-fashion mnist.ipynb",
      "provenance": [],
      "collapsed_sections": []
    },
    "kernelspec": {
      "name": "python3",
      "display_name": "Python 3"
    },
    "accelerator": "GPU"
  },
  "cells": [
    {
      "cell_type": "code",
      "metadata": {
        "id": "2nMViUuGyfAA",
        "colab_type": "code",
        "outputId": "99bf0b41-3190-4fcc-fd84-4ffa5a3a3456",
        "colab": {
          "base_uri": "https://localhost:8080/",
          "height": 183
        }
      },
      "source": [
        "from google.colab import drive\n",
        "drive.mount('/content/drive')"
      ],
      "execution_count": 0,
      "outputs": [
        {
          "output_type": "stream",
          "text": [
            "Go to this URL in a browser: https://accounts.google.com/o/oauth2/auth?client_id=947318989803-6bn6qk8qdgf4n4g3pfee6491hc0brc4i.apps.googleusercontent.com&redirect_uri=urn%3aietf%3awg%3aoauth%3a2.0%3aoob&response_type=code&scope=email%20https%3a%2f%2fwww.googleapis.com%2fauth%2fdocs.test%20https%3a%2f%2fwww.googleapis.com%2fauth%2fdrive%20https%3a%2f%2fwww.googleapis.com%2fauth%2fdrive.photos.readonly%20https%3a%2f%2fwww.googleapis.com%2fauth%2fpeopleapi.readonly\n",
            "\n",
            "Enter your authorization code:\n",
            "··········\n",
            "Mounted at /content/drive\n"
          ],
          "name": "stdout"
        }
      ]
    },
    {
      "cell_type": "code",
      "metadata": {
        "id": "8RSx-gZLglDt",
        "colab_type": "code",
        "outputId": "8f176025-adda-48b7-ef5a-96275f3b0938",
        "colab": {
          "base_uri": "https://localhost:8080/",
          "height": 78
        }
      },
      "source": [
        "import os\n",
        "import numpy as np\n",
        "import matplotlib.pyplot as plt\n",
        "from keras.layers import Dense, Conv2D, LeakyReLU, Conv2DTranspose, Flatten\n",
        "from keras.layers import Layer, Reshape, BatchNormalization, Activation, Input\n",
        "from keras.models import Model\n",
        "from keras.datasets import fashion_mnist\n",
        "from keras.optimizers import RMSprop\n",
        "from keras.utils import plot_model\n",
        "from sklearn.model_selection import train_test_split\n",
        "import random"
      ],
      "execution_count": 0,
      "outputs": [
        {
          "output_type": "stream",
          "text": [
            "Using TensorFlow backend.\n"
          ],
          "name": "stderr"
        },
        {
          "output_type": "display_data",
          "data": {
            "text/html": [
              "<p style=\"color: red;\">\n",
              "The default version of TensorFlow in Colab will soon switch to TensorFlow 2.x.<br>\n",
              "We recommend you <a href=\"https://www.tensorflow.org/guide/migrate\" target=\"_blank\">upgrade</a> now \n",
              "or ensure your notebook will continue to use TensorFlow 1.x via the <code>%tensorflow_version 1.x</code> magic:\n",
              "<a href=\"https://colab.research.google.com/notebooks/tensorflow_version.ipynb\" target=\"_blank\">more info</a>.</p>\n"
            ],
            "text/plain": [
              "<IPython.core.display.HTML object>"
            ]
          },
          "metadata": {
            "tags": []
          }
        }
      ]
    },
    {
      "cell_type": "code",
      "metadata": {
        "id": "tzamOjDbgwua",
        "colab_type": "code",
        "colab": {}
      },
      "source": [
        "latent_dim = 100\n",
        "image_size = 28\n",
        "image_shape = (image_size, image_size, 1)\n",
        "\n",
        "gen_filters = [128, 64, 32, 1]\n",
        "gen_strides = [2, 2, 1, 1]\n",
        "\n",
        "dis_filters = [32, 64, 128, 256]\n",
        "dis_strides = [2, 2, 2, 1]\n",
        "kernel_size = 5\n",
        "strides = 2\n",
        "alpha = 0.2\n",
        "\n",
        "batch_size = 64\n",
        "\n",
        "dis_lr = 2e-4\n",
        "dis_decay = 6e-8\n",
        "dis_optimizer = RMSprop(lr=dis_lr, decay=dis_decay)\n",
        "\n",
        "adv_lr = dis_lr * 0.5\n",
        "adv_decay = dis_decay * 0.5\n",
        "adv_optimizer = RMSprop(lr=adv_lr, decay=adv_decay)\n",
        "\n",
        "save_intervals = 500\n",
        "train_steps = 5000\n",
        "log_print_steps = 200\n",
        "test_size = 100"
      ],
      "execution_count": 0,
      "outputs": []
    },
    {
      "cell_type": "code",
      "metadata": {
        "id": "ihjE3aSFLA5U",
        "colab_type": "code",
        "outputId": "2bd1402e-6dd8-45aa-dfc8-556384532bad",
        "colab": {
          "base_uri": "https://localhost:8080/",
          "height": 148
        }
      },
      "source": [
        "''' Load dataset '''\n",
        "(x_train, _), (x_test, _) = fashion_mnist.load_data()\n",
        "x_train = x_train.reshape((-1, image_size, image_size, 1)).astype('float32') / 255\n",
        "\n",
        "os.makedirs('images', exist_ok=True)"
      ],
      "execution_count": 0,
      "outputs": [
        {
          "output_type": "stream",
          "text": [
            "Downloading data from http://fashion-mnist.s3-website.eu-central-1.amazonaws.com/train-labels-idx1-ubyte.gz\n",
            "32768/29515 [=================================] - 0s 5us/step\n",
            "Downloading data from http://fashion-mnist.s3-website.eu-central-1.amazonaws.com/train-images-idx3-ubyte.gz\n",
            "26427392/26421880 [==============================] - 2s 0us/step\n",
            "Downloading data from http://fashion-mnist.s3-website.eu-central-1.amazonaws.com/t10k-labels-idx1-ubyte.gz\n",
            "8192/5148 [===============================================] - 0s 0us/step\n",
            "Downloading data from http://fashion-mnist.s3-website.eu-central-1.amazonaws.com/t10k-images-idx3-ubyte.gz\n",
            "4423680/4422102 [==============================] - 1s 0us/step\n"
          ],
          "name": "stdout"
        }
      ]
    },
    {
      "cell_type": "code",
      "metadata": {
        "id": "UHh73kxyLHre",
        "colab_type": "code",
        "colab": {}
      },
      "source": [
        "def bn_relu(x):\n",
        "    x = BatchNormalization()(x)\n",
        "    x = Activation('relu')(x)\n",
        "    return x"
      ],
      "execution_count": 0,
      "outputs": []
    },
    {
      "cell_type": "code",
      "metadata": {
        "id": "eXOBGVIkLKJG",
        "colab_type": "code",
        "colab": {}
      },
      "source": [
        "def build_generator(inputs, image_size=28):\n",
        "    filters = gen_filters\n",
        "    x = inputs\n",
        "\n",
        "    image_resize = image_size // 4\n",
        "\n",
        "    x = Dense(image_resize * image_resize * filters[0])(x)\n",
        "    x = Reshape((image_resize, image_resize, filters[0]))(x)\n",
        "\n",
        "    for strides, filter in zip(gen_strides, filters):\n",
        "        x = bn_relu(x)\n",
        "        x = Conv2DTranspose(filters=filter,\n",
        "                            kernel_size=kernel_size,\n",
        "                            padding='same',\n",
        "                            strides=strides)(x)\n",
        "    output = Activation('sigmoid', name='sigmoid')(x)\n",
        "    model = Model(inputs, output, name='generator')\n",
        "    # model.summary()\n",
        "    plot_model(model, to_file='generator.png', show_shapes=True)\n",
        "    return model"
      ],
      "execution_count": 0,
      "outputs": []
    },
    {
      "cell_type": "code",
      "metadata": {
        "id": "9a1idD2sLQSf",
        "colab_type": "code",
        "colab": {}
      },
      "source": [
        "def build_discriminator(inputs):\n",
        "    x = inputs\n",
        "    for strides, filter in zip(dis_strides, dis_filters):\n",
        "        x = LeakyReLU(alpha=alpha)(x)\n",
        "        x = Conv2D(filters=filter,\n",
        "                   kernel_size=kernel_size,\n",
        "                   padding='same',\n",
        "                   strides=strides)(x)\n",
        "    x = Flatten()(x)\n",
        "    x = Dense(1)(x)\n",
        "    output = Activation('sigmoid', name='Sigmoid')(x)\n",
        "    model = Model(inputs, output, name='discriminator')\n",
        "    # model.summary()\n",
        "    plot_model(model, to_file='discriminator.png', show_shapes=True)\n",
        "    return model"
      ],
      "execution_count": 0,
      "outputs": []
    },
    {
      "cell_type": "code",
      "metadata": {
        "id": "0zyXufjdLNDP",
        "colab_type": "code",
        "colab": {}
      },
      "source": [
        "def build_and_train():\n",
        "    dis_inputs = Input(shape=image_shape, name='dis_inputs')\n",
        "    dis = build_discriminator(dis_inputs)\n",
        "    dis.compile(loss='binary_crossentropy',\n",
        "                optimizer=dis_optimizer,\n",
        "                metrics=['acc'])\n",
        "    gen_inputs = Input(shape=(latent_dim,), name='gen_inputs')\n",
        "    gen = build_generator(gen_inputs)\n",
        "\n",
        "    dis.trainable = False\n",
        "    adv_inputs = gen_inputs\n",
        "    adv_outputs = dis(gen(gen_inputs))\n",
        "    adv = Model(adv_inputs, adv_outputs, name='adverserial')\n",
        "    adv.compile(loss='binary_crossentropy',\n",
        "                optimizer = adv_optimizer,\n",
        "                metrics=['acc'])\n",
        "    # adv.summary()\n",
        "    plot_model(adv, to_file='adverserial.png', show_shapes=True)\n",
        "    models = gen, dis, adv\n",
        "    history = train(models)\n",
        "    return history"
      ],
      "execution_count": 0,
      "outputs": []
    },
    {
      "cell_type": "code",
      "metadata": {
        "id": "h0_ojOZVg1XK",
        "colab_type": "code",
        "colab": {}
      },
      "source": [
        "def train(models):\n",
        "    m_train = x_train.shape[0]\n",
        "    gen, dis, adv = models\n",
        "\n",
        "    test_z = np.random.uniform(low=-1, high=1, size=[test_size, latent_dim])\n",
        "    dis_loss = []\n",
        "    dis_acc = []\n",
        "    adv_loss = []\n",
        "    adv_acc = []\n",
        "    counter = 0\n",
        "    for step in range(1, train_steps + 1):\n",
        "        random_indices = np.random.randint(0, m_train, size=batch_size)\n",
        "        real_images = x_train[random_indices]\n",
        "\n",
        "        z = np.random.uniform(low=-1, high=1, size=[batch_size, latent_dim])\n",
        "        fake_images = gen.predict(z)\n",
        "\n",
        "        fake_labels = np.zeros((batch_size, 1))\n",
        "        real_labels = np.ones((batch_size, 1))\n",
        "\n",
        "        dis_x = np.concatenate([real_images, fake_images])\n",
        "        dis_y = np.concatenate([real_labels, fake_labels])\n",
        "        data = list(zip(dis_x, dis_y))\n",
        "        random.shuffle(data)\n",
        "        x_list = []\n",
        "        y_list = []\n",
        "        for x, y in data:\n",
        "            x_list.append(x)\n",
        "            y_list.append(y)\n",
        "        dis_x = np.array(x_list)\n",
        "        dis_y = np.array(y_list)\n",
        "        \n",
        "        loss_dis, acc_dis = dis.train_on_batch(dis_x, dis_y)\n",
        "        log = f'epoch: {step} dis[loss:{loss_dis}, acc{acc_dis}]'\n",
        "\n",
        "        adv_x = np.random.uniform(low=-1, high=1, size=[batch_size, latent_dim])\n",
        "        adv_y = np.ones((batch_size, 1))\n",
        "\n",
        "        loss_adv, acc_adv = adv.train_on_batch(adv_x, adv_y)\n",
        "        log += f'adv[loss:{loss_adv}, acc{acc_adv}]'\n",
        "\n",
        "        counter += 1\n",
        "        if counter >= log_print_steps:\n",
        "          counter = 0\n",
        "          print(log)\n",
        "        if step % save_intervals==0:\n",
        "            plot_images(gen, test_z, step, show=False)\n",
        "        ''' Get Loss and ACC '''\n",
        "        dis_loss.append(loss_dis)\n",
        "        dis_acc.append(acc_dis)\n",
        "        adv_loss.append(loss_adv)\n",
        "        adv_acc.append(acc_adv)\n",
        "    history = dis_loss, dis_acc, adv_loss, adv_acc\n",
        "    return history"
      ],
      "execution_count": 0,
      "outputs": []
    },
    {
      "cell_type": "code",
      "metadata": {
        "id": "x73ZblsNsbH3",
        "colab_type": "code",
        "colab": {}
      },
      "source": [
        "def plot_images(generator, noise_input, step, show=False):\n",
        "    image_address = '/content/drive/My Drive/images'\n",
        "    z = noise_input\n",
        "    n_images = z.shape[0]\n",
        "\n",
        "    rows = np.sqrt(n_images)\n",
        "    images = generator.predict(z)\n",
        "    image_size = images.shape[1]\n",
        "\n",
        "    for i in range(n_images):\n",
        "        plt.subplot(rows, rows, i+1)\n",
        "        plt.imshow(images[i].reshape((image_size, image_size)), cmap='gray')\n",
        "        plt.axis('off')\n",
        "    plt.savefig(os.path.join(image_address, f\"{step}.png\"))\n",
        "\n",
        "    if show:\n",
        "        plt.show()\n",
        "    else:\n",
        "        plt.close('all')"
      ],
      "execution_count": 0,
      "outputs": []
    },
    {
      "cell_type": "code",
      "metadata": {
        "id": "37W3y_cmg23h",
        "colab_type": "code",
        "outputId": "9ce0a5c5-ce57-4805-8f58-c43135dbb632",
        "colab": {
          "base_uri": "https://localhost:8080/",
          "height": 1000
        }
      },
      "source": [
        "history = build_and_train()"
      ],
      "execution_count": 0,
      "outputs": [
        {
          "output_type": "stream",
          "text": [
            "WARNING:tensorflow:From /usr/local/lib/python3.6/dist-packages/keras/backend/tensorflow_backend.py:541: The name tf.placeholder is deprecated. Please use tf.compat.v1.placeholder instead.\n",
            "\n",
            "WARNING:tensorflow:From /usr/local/lib/python3.6/dist-packages/keras/backend/tensorflow_backend.py:66: The name tf.get_default_graph is deprecated. Please use tf.compat.v1.get_default_graph instead.\n",
            "\n",
            "WARNING:tensorflow:From /usr/local/lib/python3.6/dist-packages/keras/backend/tensorflow_backend.py:4432: The name tf.random_uniform is deprecated. Please use tf.random.uniform instead.\n",
            "\n",
            "WARNING:tensorflow:From /usr/local/lib/python3.6/dist-packages/keras/optimizers.py:793: The name tf.train.Optimizer is deprecated. Please use tf.compat.v1.train.Optimizer instead.\n",
            "\n",
            "WARNING:tensorflow:From /usr/local/lib/python3.6/dist-packages/keras/backend/tensorflow_backend.py:3657: The name tf.log is deprecated. Please use tf.math.log instead.\n",
            "\n",
            "WARNING:tensorflow:From /usr/local/lib/python3.6/dist-packages/tensorflow_core/python/ops/nn_impl.py:183: where (from tensorflow.python.ops.array_ops) is deprecated and will be removed in a future version.\n",
            "Instructions for updating:\n",
            "Use tf.where in 2.0, which has the same broadcast rule as np.where\n",
            "WARNING:tensorflow:From /usr/local/lib/python3.6/dist-packages/keras/backend/tensorflow_backend.py:190: The name tf.get_default_session is deprecated. Please use tf.compat.v1.get_default_session instead.\n",
            "\n",
            "WARNING:tensorflow:From /usr/local/lib/python3.6/dist-packages/keras/backend/tensorflow_backend.py:197: The name tf.ConfigProto is deprecated. Please use tf.compat.v1.ConfigProto instead.\n",
            "\n",
            "WARNING:tensorflow:From /usr/local/lib/python3.6/dist-packages/keras/backend/tensorflow_backend.py:203: The name tf.Session is deprecated. Please use tf.compat.v1.Session instead.\n",
            "\n",
            "WARNING:tensorflow:From /usr/local/lib/python3.6/dist-packages/keras/backend/tensorflow_backend.py:207: The name tf.global_variables is deprecated. Please use tf.compat.v1.global_variables instead.\n",
            "\n",
            "WARNING:tensorflow:From /usr/local/lib/python3.6/dist-packages/keras/backend/tensorflow_backend.py:216: The name tf.is_variable_initialized is deprecated. Please use tf.compat.v1.is_variable_initialized instead.\n",
            "\n",
            "WARNING:tensorflow:From /usr/local/lib/python3.6/dist-packages/keras/backend/tensorflow_backend.py:223: The name tf.variables_initializer is deprecated. Please use tf.compat.v1.variables_initializer instead.\n",
            "\n",
            "WARNING:tensorflow:From /usr/local/lib/python3.6/dist-packages/keras/backend/tensorflow_backend.py:2041: The name tf.nn.fused_batch_norm is deprecated. Please use tf.compat.v1.nn.fused_batch_norm instead.\n",
            "\n",
            "WARNING:tensorflow:From /usr/local/lib/python3.6/dist-packages/keras/backend/tensorflow_backend.py:148: The name tf.placeholder_with_default is deprecated. Please use tf.compat.v1.placeholder_with_default instead.\n",
            "\n",
            "WARNING:tensorflow:From /usr/local/lib/python3.6/dist-packages/keras/backend/tensorflow_backend.py:1033: The name tf.assign_add is deprecated. Please use tf.compat.v1.assign_add instead.\n",
            "\n",
            "WARNING:tensorflow:From /usr/local/lib/python3.6/dist-packages/keras/backend/tensorflow_backend.py:1020: The name tf.assign is deprecated. Please use tf.compat.v1.assign instead.\n",
            "\n"
          ],
          "name": "stdout"
        },
        {
          "output_type": "stream",
          "text": [
            "/usr/local/lib/python3.6/dist-packages/keras/engine/training.py:493: UserWarning: Discrepancy between trainable weights and collected trainable weights, did you set `model.trainable` without calling `model.compile` after ?\n",
            "  'Discrepancy between trainable weights and collected trainable'\n",
            "/usr/local/lib/python3.6/dist-packages/keras/engine/training.py:493: UserWarning: Discrepancy between trainable weights and collected trainable weights, did you set `model.trainable` without calling `model.compile` after ?\n",
            "  'Discrepancy between trainable weights and collected trainable'\n"
          ],
          "name": "stderr"
        },
        {
          "output_type": "stream",
          "text": [
            "epoch: 200 dis[loss:0.38333654403686523, acc0.875]adv[loss:1.265186071395874, acc0.15625]\n",
            "epoch: 400 dis[loss:0.5602315068244934, acc0.734375]adv[loss:1.4717299938201904, acc0.078125]\n",
            "epoch: 600 dis[loss:0.4754846692085266, acc0.7421875]adv[loss:0.9217338562011719, acc0.3125]\n",
            "epoch: 800 dis[loss:0.4438804090023041, acc0.828125]adv[loss:1.4594922065734863, acc0.15625]\n",
            "epoch: 1000 dis[loss:0.42511481046676636, acc0.78125]adv[loss:1.224022388458252, acc0.078125]\n",
            "epoch: 1200 dis[loss:0.43501555919647217, acc0.78125]adv[loss:1.3966248035430908, acc0.046875]\n",
            "epoch: 1400 dis[loss:0.4507688879966736, acc0.796875]adv[loss:1.0914583206176758, acc0.234375]\n",
            "epoch: 1600 dis[loss:0.5317620038986206, acc0.71875]adv[loss:1.2157516479492188, acc0.25]\n",
            "epoch: 1800 dis[loss:0.4488626718521118, acc0.8046875]adv[loss:1.241806149482727, acc0.0625]\n",
            "epoch: 2000 dis[loss:0.4318975508213043, acc0.8203125]adv[loss:1.4065616130828857, acc0.078125]\n",
            "epoch: 2200 dis[loss:0.49069368839263916, acc0.765625]adv[loss:1.7338294982910156, acc0.0]\n",
            "epoch: 2400 dis[loss:0.47117069363594055, acc0.796875]adv[loss:1.0574827194213867, acc0.140625]\n",
            "epoch: 2600 dis[loss:0.45588603615760803, acc0.7890625]adv[loss:1.0937082767486572, acc0.078125]\n",
            "epoch: 2800 dis[loss:0.4592228829860687, acc0.75]adv[loss:1.1017465591430664, acc0.140625]\n",
            "epoch: 3000 dis[loss:0.3520062565803528, acc0.796875]adv[loss:1.3883717060089111, acc0.046875]\n",
            "epoch: 3200 dis[loss:0.48620954155921936, acc0.78125]adv[loss:1.1516633033752441, acc0.09375]\n",
            "epoch: 3400 dis[loss:0.4017162621021271, acc0.7890625]adv[loss:1.1805336475372314, acc0.1875]\n",
            "epoch: 3600 dis[loss:0.43591904640197754, acc0.78125]adv[loss:0.9709769487380981, acc0.203125]\n",
            "epoch: 3800 dis[loss:0.46103090047836304, acc0.765625]adv[loss:1.0302879810333252, acc0.140625]\n",
            "epoch: 4000 dis[loss:0.47984907031059265, acc0.71875]adv[loss:1.1511062383651733, acc0.125]\n",
            "epoch: 4200 dis[loss:0.36894044280052185, acc0.8125]adv[loss:1.8774135112762451, acc0.015625]\n",
            "epoch: 4400 dis[loss:0.49694138765335083, acc0.75]adv[loss:1.295487642288208, acc0.09375]\n",
            "epoch: 4600 dis[loss:0.48017507791519165, acc0.734375]adv[loss:0.9296861886978149, acc0.296875]\n",
            "epoch: 4800 dis[loss:0.405958890914917, acc0.7890625]adv[loss:1.0980091094970703, acc0.171875]\n",
            "epoch: 5000 dis[loss:0.5252404808998108, acc0.7265625]adv[loss:1.4361356496810913, acc0.0625]\n"
          ],
          "name": "stdout"
        }
      ]
    },
    {
      "cell_type": "code",
      "metadata": {
        "id": "meoeAlEI6pBh",
        "colab_type": "code",
        "outputId": "8f9ec69a-f10f-44fe-eb18-83b2a485c839",
        "colab": {
          "base_uri": "https://localhost:8080/",
          "height": 538
        }
      },
      "source": [
        "dis_loss, dis_acc, adv_loss, adv_acc = history\n",
        "\n",
        "adv_loss = np.array(adv_loss)\n",
        "dis_loss = np.array(dis_loss)\n",
        "adv_acc = np.array(adv_acc)\n",
        "dis_acc = np.array(dis_acc)\n",
        "\n",
        "epochs = np.arange(train_steps)\n",
        "\n",
        "''' Loss plot '''\n",
        "plt.plot(epochs, dis_loss, ',', label='dis_loss')\n",
        "plt.plot(epochs, adv_loss, ',', label='adv_loss')\n",
        "plt.legend()\n",
        "plt.xlabel('epochs')\n",
        "plt.ylabel('Loss')\n",
        "plt.grid('on')\n",
        "\n",
        "''' Acc plot '''\n",
        "plt.figure()\n",
        "plt.plot(epochs, adv_acc, ',', label='adv_acc')\n",
        "plt.plot(epochs, dis_acc, ',', label='dis_acc')\n",
        "plt.legend()\n",
        "plt.xlabel('epochs')\n",
        "plt.ylabel('Acc')\n",
        "plt.grid('on')"
      ],
      "execution_count": 0,
      "outputs": [
        {
          "output_type": "display_data",
          "data": {
            "image/png": "[encoded data removed]",
            "text/plain": [
              "<Figure size 432x288 with 1 Axes>"
            ]
          },
          "metadata": {
            "tags": []
          }
        },
        {
          "output_type": "display_data",
          "data": {
            "image/png": "[encoded data removed]",
            "text/plain": [
              "<Figure size 432x288 with 1 Axes>"
            ]
          },
          "metadata": {
            "tags": []
          }
        }
      ]
    },
    {
      "cell_type": "code",
      "metadata": {
        "id": "A60V_E4M75If",
        "colab_type": "code",
        "colab": {}
      },
      "source": [
        ""
      ],
      "execution_count": 0,
      "outputs": []
    }
  ]
}