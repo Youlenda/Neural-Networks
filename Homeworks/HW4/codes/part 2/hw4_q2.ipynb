{
  "nbformat": 4,
  "nbformat_minor": 0,
  "metadata": {
    "colab": {
      "name": "hw4-q2.ipynb",
      "provenance": [],
      "collapsed_sections": []
    },
    "kernelspec": {
      "name": "python3",
      "display_name": "Python 3"
    },
    "accelerator": "GPU"
  },
  "cells": [
    {
      "cell_type": "code",
      "metadata": {
        "id": "APuvHCg0QjBS",
        "colab_type": "code",
        "colab": {}
      },
      "source": [
        "import numpy as np"
      ],
      "execution_count": 0,
      "outputs": []
    },
    {
      "cell_type": "code",
      "metadata": {
        "id": "fJe4ry7bQkmz",
        "colab_type": "code",
        "colab": {}
      },
      "source": [
        "sample = np.matrix([ 1,  1, -1,  1, -1,  1, -1,  1,  1,  1,  1]) #sick\n",
        "# sample = np.matrix([-1,  1, -1, -1, -1,  1, -1,  1, -1,  1, -1]) #not sick"
      ],
      "execution_count": 0,
      "outputs": []
    },
    {
      "cell_type": "code",
      "metadata": {
        "id": "vKCp9PYBQkp8",
        "colab_type": "code",
        "colab": {}
      },
      "source": [
        "m = np.zeros([2, 11])\n",
        "m[0] = np.matrix([-1, -1, -1, -1, -1, -1, -1, -1, -1, -1, -1])\n",
        "m[1] = np.matrix([ 1,  1,  1,  1,  1,  1,  1,  1,  1,  1,  1])"
      ],
      "execution_count": 0,
      "outputs": []
    },
    {
      "cell_type": "code",
      "metadata": {
        "id": "npy9MwfqQkvC",
        "colab_type": "code",
        "outputId": "3ca30ad2-6668-4ac9-f0c6-b2f44c58ba3a",
        "colab": {
          "base_uri": "https://localhost:8080/",
          "height": 197
        }
      },
      "source": [
        "w = np.zeros([11, 2])\n",
        "w[:,0] = 0.5 * m[0]\n",
        "w[:,1] = 0.5 * m[1]\n",
        "w"
      ],
      "execution_count": 37,
      "outputs": [
        {
          "output_type": "execute_result",
          "data": {
            "text/plain": [
              "array([[-0.5,  0.5],\n",
              "       [-0.5,  0.5],\n",
              "       [-0.5,  0.5],\n",
              "       [-0.5,  0.5],\n",
              "       [-0.5,  0.5],\n",
              "       [-0.5,  0.5],\n",
              "       [-0.5,  0.5],\n",
              "       [-0.5,  0.5],\n",
              "       [-0.5,  0.5],\n",
              "       [-0.5,  0.5],\n",
              "       [-0.5,  0.5]])"
            ]
          },
          "metadata": {
            "tags": []
          },
          "execution_count": 37
        }
      ]
    },
    {
      "cell_type": "code",
      "metadata": {
        "id": "39Dw2E6kQkyD",
        "colab_type": "code",
        "colab": {}
      },
      "source": [
        "b = 11/2"
      ],
      "execution_count": 0,
      "outputs": []
    },
    {
      "cell_type": "code",
      "metadata": {
        "id": "ziyemvR4Qk15",
        "colab_type": "code",
        "colab": {}
      },
      "source": [
        "y = np.zeros([2, 1])"
      ],
      "execution_count": 0,
      "outputs": []
    },
    {
      "cell_type": "code",
      "metadata": {
        "id": "2fSepKW2Qu7F",
        "colab_type": "code",
        "colab": {}
      },
      "source": [
        "y[0] = b + np.matmul(sample, w[:,0])\n",
        "y[1] = b + np.matmul(sample, w[:,1])\n",
        "# print(y[0])\n",
        "# print(y[1])"
      ],
      "execution_count": 0,
      "outputs": []
    },
    {
      "cell_type": "code",
      "metadata": {
        "id": "qDwHd0fxQu-h",
        "colab_type": "code",
        "colab": {}
      },
      "source": [
        "input_ = y.flatten()"
      ],
      "execution_count": 0,
      "outputs": []
    },
    {
      "cell_type": "code",
      "metadata": {
        "id": "ePa_3zucQvCG",
        "colab_type": "code",
        "colab": {}
      },
      "source": [
        "def relu(x):\n",
        "  if x >= 0:\n",
        "    return x\n",
        "  else:\n",
        "    return 0"
      ],
      "execution_count": 0,
      "outputs": []
    },
    {
      "cell_type": "code",
      "metadata": {
        "id": "y1jb-vxlPJFF",
        "colab_type": "code",
        "colab": {}
      },
      "source": [
        "e = 0.4\n",
        "net = 0\n",
        "output = np.zeros(2)\n",
        "\n",
        "flag = True\n",
        "index = 0;\n",
        "while(flag):\n",
        "  for i in range (0, 2):\n",
        "    output[i] = input_[i] - e * (input_[0] + input_[1] - input_[i])\n",
        "  for i in range (0, 2):\n",
        "   output[i] = relu(output[i])\n",
        "  input_ = output.copy()\n",
        "  if output[0] == 0:\n",
        "    index = 1\n",
        "    flag = False\n",
        "  if output[1] == 0:\n",
        "    flag = False\n",
        "    index = 0"
      ],
      "execution_count": 0,
      "outputs": []
    },
    {
      "cell_type": "code",
      "metadata": {
        "id": "89a7R7VfVh4a",
        "colab_type": "code",
        "outputId": "f1696618-ca2e-4a24-bf66-acf0d36c4864",
        "colab": {
          "base_uri": "https://localhost:8080/",
          "height": 82
        }
      },
      "source": [
        "print('sample is :',sample)\n",
        "print('MaxNet input is:',y.reshape(1,2))\n",
        "print('MaxNet output/HammingNet output is',output)\n",
        "if index==0:\n",
        "  print('she/he is ok.')\n",
        "else:\n",
        "  print('she/he is sick.')\n",
        "\n",
        "\n",
        "# + str(index)"
      ],
      "execution_count": 44,
      "outputs": [
        {
          "output_type": "stream",
          "text": [
            "sample is : [[ 1  1 -1  1 -1  1 -1  1  1  1  1]]\n",
            "MaxNet input is: [[3. 8.]]\n",
            "MaxNet output/HammingNet output is [0.  6.8]\n",
            "she/he is sick.\n"
          ],
          "name": "stdout"
        }
      ]
    }
  ]
}