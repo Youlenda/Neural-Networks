{
  "nbformat": 4,
  "nbformat_minor": 0,
  "metadata": {
    "colab": {
      "name": "hw1-q1.c2.ipynb",
      "provenance": [],
      "collapsed_sections": []
    },
    "kernelspec": {
      "name": "python3",
      "display_name": "Python 3"
    },
    "accelerator": "GPU"
  },
  "cells": [
    {
      "cell_type": "code",
      "metadata": {
        "id": "-uYP-ffPg46R",
        "colab_type": "code",
        "colab": {}
      },
      "source": [
        "import numpy as np\n",
        "class1 = np.array([[0.75, 0.75], [1, 1], [1.25, 1.5]])\n",
        "class2 = np.array([[0, 1], [0.25, 1.75], [1, 2], [1.75, 1.75], [2, 1], [1.75, 0], [1, 0], [0.25, 0.25]])\n",
        "\n",
        "#class1.shape, class2.shape"
      ],
      "execution_count": 0,
      "outputs": []
    },
    {
      "cell_type": "code",
      "metadata": {
        "id": "ZBf3sQJdg9ay",
        "colab_type": "code",
        "colab": {}
      },
      "source": [
        "x_class = np.concatenate((class1,class2),axis=0)\n",
        "x_power = np.power(x_class,2)\n",
        "x = np.concatenate((x_power, x_class),axis=1)\n",
        "\n",
        "#x_class, x_power\n",
        "#x.shape, x"
      ],
      "execution_count": 0,
      "outputs": []
    },
    {
      "cell_type": "code",
      "metadata": {
        "id": "s6WF7t-_g_m-",
        "colab_type": "code",
        "outputId": "bdbff483-4306-44fb-d4fb-2abab6039440",
        "colab": {
          "base_uri": "https://localhost:8080/",
          "height": 32
        }
      },
      "source": [
        "w = np.zeros(4)\n",
        "target = np.array([1, 1, 1, -1, -1, -1, -1, -1, -1, -1, -1])\n",
        "b = 0\n",
        "threshold = 0.1\n",
        "alfa = 0.2\n",
        "epochs = 0\n",
        "for epochs in range (80):\n",
        "  for i in range (0, 11, 1):\n",
        "    net = np.matmul(w, x[i]) + b\n",
        "    if net > threshold:\n",
        "      predict = 1\n",
        "    elif  net < threshold:\n",
        "      predict = -1\n",
        "    else:\n",
        "      predict = 0\n",
        "    if predict != target[i]:\n",
        "      for j in range(0, 4, 1):      \n",
        "        w[j]   =  w[j] + alfa * target[i] * x[i,j]\n",
        "      b =  b + alfa * target[i]\n",
        "    \n",
        "print(\"Weights = \",w,\", Bias = \",b)"
      ],
      "execution_count": 27,
      "outputs": [
        {
          "output_type": "stream",
          "text": [
            "Weights =  [-2.2   -1.525  3.9    2.9  ] , Bias =  -1.9999999999999998\n"
          ],
          "name": "stdout"
        }
      ]
    },
    {
      "cell_type": "code",
      "metadata": {
        "id": "CvVuaxX1hE0l",
        "colab_type": "code",
        "outputId": "d9bc2eec-46c0-4028-fc65-644186d58f6b",
        "colab": {
          "base_uri": "https://localhost:8080/",
          "height": 263
        }
      },
      "source": [
        "import matplotlib.pyplot as plt\n",
        "\n",
        "plt.plot(x[target ==  1, 2], x[target ==  1, 3], 'ro')\n",
        "plt.plot(x[target == -1, 2], x[target == -1, 3], 'bo')\n",
        "\n",
        "x_line = np.linspace(0, 2, 50000)\n",
        "delta  = (-w[0]*np.power(x_line+w[2]/(2*w[0]),2)+ np.power(w[2],2)/(4*w[0]) + np.power(w[3],2)/(4*w[1]) - b)/w[1]\n",
        "x_line = x_line[delta > 0]\n",
        "delta  = delta [delta > 0]\n",
        "y_line_p =  np.sqrt (delta) - w[3]/(2*w[1])\n",
        "y_line_n = -np.sqrt (delta) - w[3]/(2*w[1])\n",
        "plt.plot(x_line, y_line_p, 'orange')\n",
        "plt.plot(x_line, y_line_n, 'orange')\n",
        "plt.show()\n"
      ],
      "execution_count": 28,
      "outputs": [
        {
          "output_type": "display_data",
          "data": {
            "image/png": "[encoded data removed]",
            "text/plain": [
              "<Figure size 432x288 with 1 Axes>"
            ]
          },
          "metadata": {
            "tags": []
          }
        }
      ]
    }
  ]
}