{
  "nbformat": 4,
  "nbformat_minor": 0,
  "metadata": {
    "colab": {
      "name": "hw1-q1-c1.ipynb",
      "provenance": [],
      "collapsed_sections": []
    },
    "kernelspec": {
      "name": "python3",
      "display_name": "Python 3"
    }
  },
  "cells": [
    {
      "cell_type": "code",
      "metadata": {
        "id": "ArzNW4cIBfKl",
        "colab_type": "code",
        "colab": {}
      },
      "source": [
        "import numpy as np\n",
        "class1 = np.array([[2, 0], [2.5, 0], [3, 0]])\n",
        "class2 = np.array([[0, 0], [1, 1], [2, 2], [3, 3], [1, -1], [2, -2], [3, -3]])\n",
        "\n",
        "#class1.shape, class2.shape\n",
        "\n"
      ],
      "execution_count": 0,
      "outputs": []
    },
    {
      "cell_type": "code",
      "metadata": {
        "id": "8qiv5RTfCJaB",
        "colab_type": "code",
        "colab": {}
      },
      "source": [
        "x_class = np.concatenate((class1,class2),axis=0)\n",
        "x_power = np.power(x_class,2)\n",
        "x = np.concatenate((x_power, x_class),axis=1)\n",
        "\n",
        "#x.shape, x.shape\n",
        "\n"
      ],
      "execution_count": 0,
      "outputs": []
    },
    {
      "cell_type": "code",
      "metadata": {
        "id": "lrOg9uDCCb1S",
        "colab_type": "code",
        "outputId": "4d439754-62e2-4594-ddde-fbdd4232f32c",
        "colab": {
          "base_uri": "https://localhost:8080/",
          "height": 39
        }
      },
      "source": [
        "w = np.zeros(4)\n",
        "b = 0\n",
        "target = np.array([1, 1, 1, -1, -1, -1, -1, -1, -1, -1])\n",
        "threshold = 0.3\n",
        "alfa = 0.2\n",
        "epochs = 0\n",
        "for epochs in range (20):\n",
        "  for i in range (0, 10, 1):\n",
        "    net = np.matmul(w, x[i]) + b\n",
        "    if net > threshold:\n",
        "      predict = 1\n",
        "    elif  net < threshold:\n",
        "      predict = -1\n",
        "    else:\n",
        "      predict = 0\n",
        "    if predict != target[i]:\n",
        "      for j in range(0,4,1):      \n",
        "        w[j]   =  w[j] + alfa * target[i] * x[i,j]\n",
        "      b   =  b + alfa * target[i]\n",
        "    \n",
        "print(\"Weights = \",w,\", Bias = \",b)\n"
      ],
      "execution_count": 3,
      "outputs": [
        {
          "output_type": "stream",
          "text": [
            "Weights =  [ 0.4 -1.2  0.  -0.4] , Bias =  -0.2\n"
          ],
          "name": "stdout"
        }
      ]
    },
    {
      "cell_type": "code",
      "metadata": {
        "id": "B0MD090Kf7eA",
        "colab_type": "code",
        "outputId": "64ff9774-457f-49ce-8929-471015224467",
        "colab": {
          "base_uri": "https://localhost:8080/",
          "height": 265
        }
      },
      "source": [
        "import matplotlib.pyplot as plt\n",
        "\n",
        "plt.plot(x[target ==  1, 2], x[target ==  1, 3], 'ro')\n",
        "plt.plot(x[target == -1, 2], x[target == -1, 3], 'bo')\n",
        "\n",
        "x_line = np.linspace(0,5,50000)\n",
        "delta  = (-w[0]*np.power(x_line+w[2]/(2*w[0]),2)+ np.power(w[2],2)/(4*w[0]) + np.power(w[3],2)/(4*w[1]) - b)/w[1]\n",
        "x_line = x_line[delta > 0]\n",
        "delta  = delta [delta > 0]\n",
        "y_line_p =  np.sqrt (delta) - w[3]/(2*w[1])\n",
        "y_line_n = -np.sqrt (delta) - w[3]/(2*w[1])\n",
        "plt.plot(x_line, y_line_p, 'orange')\n",
        "plt.plot(x_line, y_line_n, 'orange')\n",
        "plt.show()\n"
      ],
      "execution_count": 8,
      "outputs": [
        {
          "output_type": "display_data",
          "data": {
            "image/png": "[encoded data removed]",
            "text/plain": [
              "<Figure size 432x288 with 1 Axes>"
            ]
          },
          "metadata": {
            "tags": []
          }
        }
      ]
    }
  ]
}