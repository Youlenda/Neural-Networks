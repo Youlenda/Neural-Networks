{
  "nbformat": 4,
  "nbformat_minor": 0,
  "metadata": {
    "colab": {
      "name": "hw1-q1-b - without bias.ipynb",
      "provenance": [],
      "collapsed_sections": []
    },
    "kernelspec": {
      "name": "python3",
      "display_name": "Python 3"
    },
    "accelerator": "GPU"
  },
  "cells": [
    {
      "cell_type": "code",
      "metadata": {
        "id": "0-4NI65ZZ1OG",
        "colab_type": "code",
        "colab": {}
      },
      "source": [
        "#upload csv file from google drive\n",
        "import pandas as pd\n",
        "url = '/content/HW1_Q1_data.csv'\n",
        "dataset = pd.read_csv(url)\n",
        "\n",
        "#dataset"
      ],
      "execution_count": 0,
      "outputs": []
    },
    {
      "cell_type": "code",
      "metadata": {
        "id": "5OMDmNUEZ9tR",
        "colab_type": "code",
        "colab": {}
      },
      "source": [
        "import numpy as np\n",
        "x = dataset.drop(columns = 'flower')\n",
        "x = x.values\n",
        "y = dataset['flower'].values\n",
        "\n",
        "#x.shape, x, y"
      ],
      "execution_count": 0,
      "outputs": []
    },
    {
      "cell_type": "code",
      "metadata": {
        "id": "eOF_QxN7Z_7R",
        "colab_type": "code",
        "colab": {}
      },
      "source": [
        "target = np.where(y == 'Iris-setosa', 1, -1)\n",
        "target = np.reshape(target, (100,1))\n",
        "\n",
        "#target.shape, target"
      ],
      "execution_count": 0,
      "outputs": []
    },
    {
      "cell_type": "code",
      "metadata": {
        "id": "bW4Nq8FvaC9S",
        "colab_type": "code",
        "outputId": "e2fd3cff-a854-41ed-80b5-8a9b2ea9cc68",
        "colab": {
          "base_uri": "https://localhost:8080/",
          "height": 34
        }
      },
      "source": [
        "import numpy as np\n",
        "w = np.zeros([1, 2])\n",
        "#b = 0\n",
        "threshold = 0.3\n",
        "alfa = 0.6\n",
        "predict = np.zeros([100, 1])\n",
        "net = np.zeros([100, 1])\n",
        "epochs = 0\n",
        "errors = np.ones([100,1])\n",
        "\n",
        "#predict.shape, predict\n",
        "#ideal_errors.shape\n",
        "\n",
        "np.sum(w)"
      ],
      "execution_count": 125,
      "outputs": [
        {
          "output_type": "execute_result",
          "data": {
            "text/plain": [
              "0.0"
            ]
          },
          "metadata": {
            "tags": []
          },
          "execution_count": 125
        }
      ]
    },
    {
      "cell_type": "code",
      "metadata": {
        "id": "eyo07vjqaFNn",
        "colab_type": "code",
        "outputId": "92e2b6c7-8234-412b-f148-3a2b6342bfb6",
        "colab": {
          "base_uri": "https://localhost:8080/",
          "height": 34
        }
      },
      "source": [
        "i=0\n",
        "for epochs in range (100):\n",
        "  for i in range(100):\n",
        "    net= np.matmul(w, x[i,:])#+ b\n",
        "    if net > threshold:\n",
        "      predict = 1\n",
        "    elif  net < threshold:\n",
        "      predict = -1\n",
        "    else:\n",
        "      predict = 0\n",
        "    errors[i]=abs(predict-target[i,0]) \n",
        "    if errors[i]!=0: \n",
        "      w   =  w + alfa * x[i,:] * target[i]\n",
        "     # b   =  b + alfa * target[i]\n",
        "  \n",
        "w  "
      ],
      "execution_count": 126,
      "outputs": [
        {
          "output_type": "execute_result",
          "data": {
            "text/plain": [
              "array([[ 2.58, -5.22]])"
            ]
          },
          "metadata": {
            "tags": []
          },
          "execution_count": 126
        }
      ]
    },
    {
      "cell_type": "code",
      "metadata": {
        "id": "fd0Ux8WraG5Y",
        "colab_type": "code",
        "colab": {}
      },
      "source": [
        "x1_line = np.arange(3.5,8.5)\n",
        "x2_line1 = (- w[0,0] * x1_line)/w[0,1]\n",
        "x2_line2 = (- w[0,0] * x1_line + threshold)/w[0,1]\n",
        "x2_line3 = (- w[0,0] * x1_line - threshold)/w[0,1]\n"
      ],
      "execution_count": 0,
      "outputs": []
    },
    {
      "cell_type": "code",
      "metadata": {
        "id": "U01sqsDNaIc6",
        "colab_type": "code",
        "outputId": "9182fa17-f996-48f3-f6fc-002f94e1f459",
        "colab": {
          "base_uri": "https://localhost:8080/",
          "height": 283
        }
      },
      "source": [
        "import matplotlib.pyplot as plt\n",
        "plt.scatter(x[:50, 0], x[:50, 1], color='red', marker='o', label='Iris-setosa')\n",
        "plt.scatter(x[50:100, 0], x[50:100, 1], color='blue', marker='x', label='Iris-versicolor')\n",
        "plt.plot(x1_line,x2_line1,'c--')\n",
        "plt.plot(x1_line,x2_line2,'orange')\n",
        "plt.plot(x1_line,x2_line3,'orange')\n",
        "plt.xlabel('petal length (cm)')\n",
        "plt.ylabel('sepal length (cm)')\n",
        "plt.legend(loc='upper left')\n",
        "plt.show()\n",
        "\n"
      ],
      "execution_count": 128,
      "outputs": [
        {
          "output_type": "display_data",
          "data": {
            "image/png": "[encoded data removed]",
            "text/plain": [
              "<Figure size 432x288 with 1 Axes>"
            ]
          },
          "metadata": {
            "tags": []
          }
        }
      ]
    }
  ]
}