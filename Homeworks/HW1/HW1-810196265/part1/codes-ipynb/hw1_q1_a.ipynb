{
  "nbformat": 4,
  "nbformat_minor": 0,
  "metadata": {
    "colab": {
      "name": "hw1-q1-a.ipynb",
      "provenance": [],
      "collapsed_sections": []
    },
    "kernelspec": {
      "name": "python3",
      "display_name": "Python 3"
    },
    "accelerator": "GPU"
  },
  "cells": [
    {
      "cell_type": "code",
      "metadata": {
        "id": "0-4NI65ZZ1OG",
        "colab_type": "code",
        "colab": {}
      },
      "source": [
        "#upload csv file from google drive\n",
        "import pandas as pd\n",
        "url = '/content/HW1_Q1_data.csv'\n",
        "dataset = pd.read_csv(url)\n",
        "\n",
        "#dataset"
      ],
      "execution_count": 0,
      "outputs": []
    },
    {
      "cell_type": "code",
      "metadata": {
        "id": "5OMDmNUEZ9tR",
        "colab_type": "code",
        "colab": {}
      },
      "source": [
        "import numpy as np\n",
        "x = dataset.drop(columns = 'flower')\n",
        "x = x.values\n",
        "y = dataset['flower'].values\n",
        "\n",
        "#x.shape, x, y"
      ],
      "execution_count": 0,
      "outputs": []
    },
    {
      "cell_type": "code",
      "metadata": {
        "id": "eOF_QxN7Z_7R",
        "colab_type": "code",
        "colab": {}
      },
      "source": [
        "target = np.where(y == 'Iris-setosa', 1, -1)\n",
        "target = np.reshape(target, (100,1))\n",
        "\n",
        "#target.shape, target"
      ],
      "execution_count": 0,
      "outputs": []
    },
    {
      "cell_type": "code",
      "metadata": {
        "id": "bW4Nq8FvaC9S",
        "colab_type": "code",
        "outputId": "59de2247-43a1-4f94-a401-454fad98eccd",
        "colab": {
          "base_uri": "https://localhost:8080/",
          "height": 34
        }
      },
      "source": [
        "import numpy as np\n",
        "w = np.zeros([1, 2])\n",
        "b = 0\n",
        "threshold = 0.3\n",
        "alfa = 0.6\n",
        "predict = np.zeros([100, 1])\n",
        "net = np.zeros([100, 1])\n",
        "epochs = 0\n",
        "errors = np.ones([100,1])\n",
        "\n",
        "w,b\n"
      ],
      "execution_count": 55,
      "outputs": [
        {
          "output_type": "execute_result",
          "data": {
            "text/plain": [
              "(array([[0., 0.]]), 0)"
            ]
          },
          "metadata": {
            "tags": []
          },
          "execution_count": 55
        }
      ]
    },
    {
      "cell_type": "code",
      "metadata": {
        "id": "eyo07vjqaFNn",
        "colab_type": "code",
        "outputId": "756b86e3-25b3-4331-bd2e-d3a1a77492c8",
        "colab": {
          "base_uri": "https://localhost:8080/",
          "height": 34
        }
      },
      "source": [
        "i=0\n",
        "for epochs in range (10):\n",
        "  for i in range(100):\n",
        "    net = np.matmul(w, x[i,:])+ b\n",
        "    if net > threshold:\n",
        "      predict = 1\n",
        "    elif  net < threshold:\n",
        "      predict = -1\n",
        "    else:\n",
        "      predict = 0\n",
        "    errors[i] = abs(predict-target[i]) \n",
        "    if errors[i]!=0: \n",
        "      w   =  w + alfa * x[i,:] * target[i]\n",
        "      b   =  b + alfa * target[i]\n",
        "      \n",
        "print(\"Weights = \",w,\", Bias = \",b)"
      ],
      "execution_count": 56,
      "outputs": [
        {
          "output_type": "stream",
          "text": [
            "Weights =  [[ 2.28 -5.58]] , Bias =  [1.2]\n"
          ],
          "name": "stdout"
        }
      ]
    },
    {
      "cell_type": "code",
      "metadata": {
        "id": "fd0Ux8WraG5Y",
        "colab_type": "code",
        "colab": {}
      },
      "source": [
        "x1_line = np.arange(3.5,8.5)\n",
        "x2_line1 = (-b - w[0,0] * x1_line)/w[0,1]\n",
        "x2_line2 = (-b - w[0,0] * x1_line + threshold)/w[0,1]\n",
        "x2_line3 = (-b - w[0,0] * x1_line - threshold)/w[0,1]\n",
        "\n",
        "#x1_line"
      ],
      "execution_count": 0,
      "outputs": []
    },
    {
      "cell_type": "code",
      "metadata": {
        "id": "U01sqsDNaIc6",
        "colab_type": "code",
        "outputId": "08a69ea4-f6dd-4cdb-a9a0-535c5a15adf0",
        "colab": {
          "base_uri": "https://localhost:8080/",
          "height": 283
        }
      },
      "source": [
        "import matplotlib.pyplot as plt\n",
        "plt.scatter(x[:50, 0], x[:50, 1], color='red', marker='o', label='Iris-setosa')\n",
        "plt.scatter(x[50:100, 0], x[50:100, 1], color='blue', marker='x', label='Iris-versicolor')\n",
        "plt.plot(x1_line,x2_line1,'c--')\n",
        "plt.plot(x1_line,x2_line2,'orange')\n",
        "plt.plot(x1_line,x2_line3,'orange')\n",
        "plt.xlabel('petal length (cm)')\n",
        "plt.ylabel('sepal length (cm)')\n",
        "plt.legend(loc='upper left')\n",
        "plt.show()"
      ],
      "execution_count": 58,
      "outputs": [
        {
          "output_type": "display_data",
          "data": {
            "image/png": "[encoded data removed]",
            "text/plain": [
              "<Figure size 432x288 with 1 Axes>"
            ]
          },
          "metadata": {
            "tags": []
          }
        }
      ]
    }
  ]
}