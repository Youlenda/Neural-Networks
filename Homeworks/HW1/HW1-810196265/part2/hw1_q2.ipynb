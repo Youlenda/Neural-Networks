{
  "nbformat": 4,
  "nbformat_minor": 0,
  "metadata": {
    "colab": {
      "name": "hw1-q2.ipynb",
      "provenance": [],
      "collapsed_sections": []
    },
    "kernelspec": {
      "name": "python3",
      "display_name": "Python 3"
    }
  },
  "cells": [
    {
      "cell_type": "code",
      "metadata": {
        "id": "mQ7OeE1EzaW_",
        "colab_type": "code",
        "colab": {}
      },
      "source": [
        "import numpy as np\n",
        "\n",
        "\n",
        "x1 =  2 + 0.5 * np.random.randn(100, 1)\n",
        "y1 =  0 + 0.2 * np.random.randn(100, 1)\n",
        "xi1 = np.concatenate((x1, y1), axis = 1)\n",
        "\n",
        "x2 =  0 + 0.1 * np.random.randn(30, 1)\n",
        "y2 = -1 + 0.7 * np.random.randn(30, 1)\n",
        "xi2 = np.concatenate((x2, y2), axis = 1)\n",
        "\n",
        "xi = np.concatenate((xi1, xi2), axis = 0)\n",
        " \n",
        "target = np.concatenate((np.ones((1, 100)), -1*np.ones((1, 30))), axis=1)\n",
        "target = np.squeeze(target)\n",
        "\n",
        "#xi.shape\n",
        "#xi1, xi2 ,xi\n",
        "#target.shape, target"
      ],
      "execution_count": 0,
      "outputs": []
    },
    {
      "cell_type": "code",
      "metadata": {
        "id": "6mewQqelIRMU",
        "colab_type": "code",
        "colab": {}
      },
      "source": [
        "w = np.zeros(2)\n",
        "b = 0\n",
        "alfa = 0.09\n",
        "errors = np.zeros((130))\n",
        "\n",
        "#w, wp, b, alfa, errors"
      ],
      "execution_count": 0,
      "outputs": []
    },
    {
      "cell_type": "code",
      "metadata": {
        "id": "VTayDz2Qza10",
        "colab_type": "code",
        "colab": {}
      },
      "source": [
        "for epochs in range (0,130,1):\n",
        "  for i in range(0, 130, 1):\n",
        "    net = np.matmul(w, xi[i]) + b\n",
        "    errors[i] = 0.5 * ((target[i] - net)**2)\n",
        "    for j in range(0, 2, 1):\n",
        "      w[j] = w[j] + alfa * (target[i] - net)*xi[i, j]\n",
        "    b = b +  alfa * target[i] - net\n",
        " \n",
        "print(\"Weights = \",w,\", Bias = \",b)"
      ],
      "execution_count": 0,
      "outputs": []
    },
    {
      "cell_type": "code",
      "metadata": {
        "id": "9pV3Z5-_za4U",
        "colab_type": "code",
        "colab": {}
      },
      "source": [
        "import matplotlib.pyplot as plt\n",
        "epochs = np.arange(1,131)\n",
        "plt.figure(0)\n",
        "plt.plot(epochs, errors, 'cyan')\n",
        "plt.xlabel('Epochs')\n",
        "plt.ylabel('Errors')\n",
        "plt.show()"
      ],
      "execution_count": 0,
      "outputs": []
    },
    {
      "cell_type": "code",
      "metadata": {
        "id": "HyrJO3zMHo_f",
        "colab_type": "code",
        "colab": {}
      },
      "source": [
        "x_line = np.arange(-0.5, 2)\n",
        "y_line = (-b - w[0] * x_line)/w[1]\n",
        "plt.figure(1)\n",
        "plt.plot(xi[target == -1, 0], xi[target == -1, 1], 'ro')\n",
        "plt.plot(xi[target ==  1, 0], xi[target ==  1, 1], 'bo')\n",
        "plt.xlabel('x')\n",
        "plt.ylabel('y')\n",
        "plt.plot(x_line, y_line, 'green')\n",
        "plt.show()"
      ],
      "execution_count": 0,
      "outputs": []
    }
  ]
}