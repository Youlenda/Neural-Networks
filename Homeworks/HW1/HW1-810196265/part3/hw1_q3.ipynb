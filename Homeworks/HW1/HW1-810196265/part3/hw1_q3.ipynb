{
  "nbformat": 4,
  "nbformat_minor": 0,
  "metadata": {
    "colab": {
      "name": "hw1-q3.ipynb",
      "provenance": [],
      "collapsed_sections": []
    },
    "kernelspec": {
      "name": "python3",
      "display_name": "Python 3"
    }
  },
  "cells": [
    {
      "cell_type": "code",
      "metadata": {
        "id": "X-3e1N_0dbgi",
        "colab_type": "code",
        "colab": {}
      },
      "source": [
        "import numpy as np\n",
        "\n",
        "x1 = np.array([1,  1, -1, -1])\n",
        "x2 = np.array([1, -1,  1, -1])\n",
        "\n",
        "target = np.array([1, -1, -1, 1])\n",
        "\n",
        "v = np.array([[0.5],[0.5]])\n",
        "b = np.array([[0.3],[0.15],[0.5]])\n",
        "w = np.array([[0.05,0.1],[0.2,0.2]])\n",
        "\n",
        "alfa = 0.69\n"
      ],
      "execution_count": 0,
      "outputs": []
    },
    {
      "cell_type": "code",
      "metadata": {
        "id": "oAXdq17D385d",
        "colab_type": "code",
        "colab": {}
      },
      "source": [
        "def sign(x):\n",
        "  if x >= 0:\n",
        "    yt =  1\n",
        "  else:\n",
        "    yt = -1\n",
        "  return(yt)"
      ],
      "execution_count": 0,
      "outputs": []
    },
    {
      "cell_type": "code",
      "metadata": {
        "id": "PN0XnTss4AB9",
        "colab_type": "code",
        "colab": {}
      },
      "source": [
        "flag = True\n",
        "epoch =0\n",
        "while(flag):\n",
        "  flag = False\n",
        "  for i in range (0,4):\n",
        "    z_in1 = x1[i] * w[0,0] + x2[i] * w[1,0] + b[0,0]\n",
        "    z_in2 = x1[i] * w[0,1] + x2[i] * w[1,1] + b[1,0]\n",
        "    z1 = sign(z_in1)\n",
        "    z2 = sign(z_in2)\n",
        "    y_in = v[0,0] * z1 + v[1,0] * z2 + b[2,0]\n",
        "    y = sign(y_in)\n",
        "    if (-target[i]+y) == 0:\n",
        "      error=0\n",
        "    else:\n",
        "      if target[i] ==  -1:\n",
        "          if z_in1>0:\n",
        "              b[0,0] = b[0,0] + alfa*(-1-z_in1)\n",
        "              w[0,0] = w[0,0] + alfa*(-1-z_in1)*x1[i]\n",
        "              w[1,0] = w[1,0] + alfa*(-1-z_in1)*x2[i]\n",
        "          if z_in2>0 :\n",
        "              b[1,0] = b[1,0] + alfa*(-1-z_in2)\n",
        "              w[0,1] = w[0,1] + alfa*(-1-z_in2)*x1[i]\n",
        "              w[1,1] = w[1,1] + alfa*(-1-z_in2)*x2[i]\n",
        "          \n",
        "          #flag = True\n",
        "      if target[i] == 1:\n",
        "          if abs(z_in1)<abs(z_in2):\n",
        "              b[0,0] = b[0,0] + alfa*(1-z_in1)\n",
        "              w[0,0] = w[0,0] + alfa*(1-z_in1)*x1[i]\n",
        "              w[1,0] = w[1,0] + alfa*(1-z_in1)*x2[i]\n",
        "          else:\n",
        "              b[1,0] = b[1,0] + alfa*(1-z_in2)\n",
        "              w[0,1] = w[0,1] + alfa*(1-z_in2)*x1[i]\n",
        "              w[1,1] = w[1,1] + alfa*(1-z_in2)*x2[i]       \n",
        "          flag = True\n",
        "  epoch = epoch +1\n",
        "      \n",
        "\n",
        "print(\"Weights = \")\n",
        "print(w)\n",
        "print(\"Bias =\" )\n",
        "print(b[0:2])\n"
      ],
      "execution_count": 0,
      "outputs": []
    },
    {
      "cell_type": "code",
      "metadata": {
        "id": "HwO2Hy5Z4bl-",
        "colab_type": "code",
        "colab": {}
      },
      "source": [
        "x1_line = np.arange(-2, 3)\n",
        "x2_line1 = (-b[0,0] - w[0,0] * x1_line)/w[1,0]\n",
        "x2_line2 = (-b[1,0] - w[0,1] * x1_line)/w[1,1]"
      ],
      "execution_count": 0,
      "outputs": []
    },
    {
      "cell_type": "code",
      "metadata": {
        "id": "-xK-7uQK4exT",
        "colab_type": "code",
        "colab": {}
      },
      "source": [
        "import matplotlib.pyplot as plt\n",
        "plt.scatter(x1, x2, color='red', marker='o')\n",
        "plt.plot(x1_line,x2_line1,'b')\n",
        "plt.plot(x1_line,x2_line2,'g')\n",
        "plt.xlabel('x1')\n",
        "plt.ylabel('x2')\n",
        "#plt.xlim(-1,0.5)\n",
        "plt.grid()\n",
        "plt.show()"
      ],
      "execution_count": 0,
      "outputs": []
    }
  ]
}