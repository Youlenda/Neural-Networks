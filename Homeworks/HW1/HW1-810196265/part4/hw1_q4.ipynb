{
  "nbformat": 4,
  "nbformat_minor": 0,
  "metadata": {
    "colab": {
      "name": "hw1-q4.ipynb",
      "provenance": [],
      "collapsed_sections": []
    },
    "kernelspec": {
      "name": "python3",
      "display_name": "Python 3"
    }
  },
  "cells": [
    {
      "cell_type": "code",
      "metadata": {
        "id": "05s1ZGhtsWGy",
        "colab_type": "code",
        "colab": {}
      },
      "source": [
        "import numpy as np\n",
        "\n",
        "x = np.array([ 0,  3,   4,  -1])\n",
        "y = np.array([ 2,  2,  -2,  -2])\n",
        "\n",
        "w_x = np.array([  0,    4,   0,  -4])\n",
        "w_y = np.array([  1,    1,   1,   1])\n",
        "b   = np.array([ -2,  -14,   2,  -2])\n",
        "\n",
        "w_and = np.ones(4)\n",
        "b_and = -4\n"
      ],
      "execution_count": 0,
      "outputs": []
    },
    {
      "cell_type": "code",
      "metadata": {
        "id": "R-OkKlQMtkbS",
        "colab_type": "code",
        "colab": {}
      },
      "source": [
        "def line(x, y, w_x, w_y, b):\n",
        "  net = w_x * x + w_y * y + b\n",
        "  if net <= 0:\n",
        "    return True\n",
        "  else:\n",
        "    return False\n",
        "  \n",
        "def convex(x, y):\n",
        "  a_line = line(x, y,  w_x[0],  w_y[0],  b[0])\n",
        "  b_line = line(x, y,  w_x[1],  w_y[1],  b[1])\n",
        "  c_line = line(x, y, -w_x[2], -w_y[2],  -b[2])\n",
        "  d_line = line(x, y,  w_x[3],  w_y[3],  b[3])\n",
        "  \n",
        "  out = a_line + b_line + c_line + d_line + b_and\n",
        "  if out >= 0 :\n",
        "    return True\n",
        "  else:\n",
        "    return False"
      ],
      "execution_count": 0,
      "outputs": []
    },
    {
      "cell_type": "code",
      "metadata": {
        "id": "DWJWGrXT6tbE",
        "colab_type": "code",
        "colab": {}
      },
      "source": [
        "def input_(a, b):\n",
        "  if convex(a, b)==True:\n",
        "    print(\"(\",a,\",\",b,\")\",\"IS inside of the convex polygon.\")\n",
        "    plt.plot(a, b, 'bo')\n",
        "  else:\n",
        "    print(\"(\",a,\",\",b,\")\",\"ISN'T inside of the convex polygon.\")\n",
        "    plt.plot(a, b, 'ro')"
      ],
      "execution_count": 0,
      "outputs": []
    },
    {
      "cell_type": "code",
      "metadata": {
        "id": "Q4AURZAC6jcb",
        "colab_type": "code",
        "colab": {
          "base_uri": "https://localhost:8080/",
          "height": 591
        },
        "outputId": "0d5dd56f-cf4d-469e-a305-c6fbfa1e54fa"
      },
      "source": [
        "import matplotlib.pyplot as plt\n",
        "\n",
        "x_line1 = np.linspace( 0,  3, 500)\n",
        "y_line1 = np.linspace( 2,  2, 500)\n",
        "plt.plot(x_line1, y_line1, 'blue')\n",
        "\n",
        "x_line2 = np.linspace( 3,  4, 500)\n",
        "y_line2 = np.linspace( 2, -2, 500)\n",
        "plt.plot(x_line2, y_line2, 'blue')\n",
        "\n",
        "x_line3 = np.linspace( 4, -1, 500)\n",
        "y_line3 = np.linspace(-2, -2, 500)\n",
        "plt.plot(x_line3, y_line3, 'blue')\n",
        "\n",
        "x_line4 = np.linspace(-1,  0, 500)\n",
        "y_line4 = np.linspace(-2,  2, 500)\n",
        "plt.plot(x_line4, y_line4, 'blue')\n",
        "plt.xlabel('x')\n",
        "plt.ylabel('y')\n",
        "\n",
        "#inside\n",
        "input_( 1,   1)\n",
        "input_( 3,-1.5)\n",
        "input_( 1, 1.5)\n",
        "input_( 0,   0)\n",
        "input_( 2, 1.5)\n",
        "input_( 2,   2)\n",
        "input_( 0,   1)\n",
        "#outside\n",
        "input_(4 ,-2.1)\n",
        "input_(-2,   0)\n",
        "input_(-3,   0)\n",
        "input_(-1, 0.5)\n",
        "input_(4 ,   2)\n",
        "input_(5 ,  -1)\n",
        "input_(4.5,1.5)\n",
        "\n",
        "plt.show()"
      ],
      "execution_count": 274,
      "outputs": [
        {
          "output_type": "stream",
          "text": [
            "( 1 , 1 ) IS inside of the convex polygon.\n",
            "( 3 , -1.5 ) IS inside of the convex polygon.\n",
            "( 1 , 1.5 ) IS inside of the convex polygon.\n",
            "( 0 , 0 ) IS inside of the convex polygon.\n",
            "( 2 , 1.5 ) IS inside of the convex polygon.\n",
            "( 2 , 2 ) IS inside of the convex polygon.\n",
            "( 0 , 1 ) IS inside of the convex polygon.\n",
            "( 4 , -2.1 ) ISN'T inside of the convex polygon.\n",
            "( -2 , 0 ) ISN'T inside of the convex polygon.\n",
            "( -3 , 0 ) ISN'T inside of the convex polygon.\n",
            "( -1 , 0.5 ) ISN'T inside of the convex polygon.\n",
            "( 4 , 2 ) ISN'T inside of the convex polygon.\n",
            "( 5 , -1 ) ISN'T inside of the convex polygon.\n",
            "( 4.5 , 1.5 ) ISN'T inside of the convex polygon.\n"
          ],
          "name": "stdout"
        },
        {
          "output_type": "display_data",
          "data": {
            "image/png": "[encoded data removed]",
            "text/plain": [
              "<Figure size 432x288 with 1 Axes>"
            ]
          },
          "metadata": {
            "tags": []
          }
        }
      ]
    }
  ]
}