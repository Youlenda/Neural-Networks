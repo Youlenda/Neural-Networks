{
  "nbformat": 4,
  "nbformat_minor": 0,
  "metadata": {
    "colab": {
      "name": "hw2-q2.1.decoder.ipynb",
      "provenance": [],
      "collapsed_sections": []
    },
    "kernelspec": {
      "name": "python3",
      "display_name": "Python 3"
    },
    "accelerator": "GPU"
  },
  "cells": [
    {
      "cell_type": "code",
      "metadata": {
        "id": "tBtPBdIXOmMt",
        "colab_type": "code",
        "colab": {}
      },
      "source": [
        "from keras.datasets import mnist\n",
        "from keras.utils import np_utils\n",
        "import numpy as np\n",
        "\n",
        "(x_train, _),(x_test, _) = mnist.load_data()\n",
        "x_train = x_train.reshape((60000, 784))\n",
        "x_test  = x_test.reshape ((10000, 784))\n",
        "\n",
        "x_train = x_train.astype('float32')\n",
        "x_test  = x_test.astype ('float32')\n",
        "\n",
        "x_train /= 255\n",
        "x_test  /= 255"
      ],
      "execution_count": 0,
      "outputs": []
    },
    {
      "cell_type": "code",
      "metadata": {
        "id": "wrlhoTwxOnHz",
        "colab_type": "code",
        "colab": {}
      },
      "source": [
        "from keras.layers import Input, Dense\n",
        "from keras.models import Model\n",
        "\n",
        "input_img = Input(shape=(784,))\n",
        "encoded = Dense(512, activation='relu')(input_img)\n",
        "encoded = Dense(256, activation='relu')(encoded)\n",
        "encoded = Dense(100, activation='relu')(encoded)\n",
        "\n",
        "decoded = Dense(256, activation='relu')(encoded)\n",
        "decoded = Dense(512, activation='relu')(decoded)\n",
        "decoded = Dense(784, activation='softmax')(decoded)\n",
        "\n",
        "autoencoder = Model(input_img, decoded)"
      ],
      "execution_count": 0,
      "outputs": []
    },
    {
      "cell_type": "code",
      "metadata": {
        "id": "DcCY6GqzN9F7",
        "colab_type": "code",
        "colab": {}
      },
      "source": [
        "from keras import optimizers\n",
        "\n",
        "sgd = optimizers.SGD(lr=0.01)\n",
        "autoencoder.compile(optimizer=sgd, loss='binary_crossentropy', metrics=['accuracy'])\n",
        "\n",
        "autoencoder.summary()"
      ],
      "execution_count": 0,
      "outputs": []
    },
    {
      "cell_type": "code",
      "metadata": {
        "id": "39kn8OfdoCff",
        "colab_type": "code",
        "colab": {}
      },
      "source": [
        "import timeit\n",
        "\n",
        "start = timeit.default_timer()"
      ],
      "execution_count": 0,
      "outputs": []
    },
    {
      "cell_type": "code",
      "metadata": {
        "id": "bMK5R1nvT2CV",
        "colab_type": "code",
        "colab": {}
      },
      "source": [
        "trained_model = autoencoder.fit(x_train, x_train, batch_size = 32, epochs = 30, validation_split = 0.2)\n",
        "history = trained_model.history"
      ],
      "execution_count": 0,
      "outputs": []
    },
    {
      "cell_type": "code",
      "metadata": {
        "id": "hbJzSEt3oEaE",
        "colab_type": "code",
        "colab": {}
      },
      "source": [
        "stop = timeit.default_timer()\n",
        "print('Time: ', stop - start) "
      ],
      "execution_count": 0,
      "outputs": []
    },
    {
      "cell_type": "code",
      "metadata": {
        "id": "LfQGrNCqN9IO",
        "colab_type": "code",
        "colab": {}
      },
      "source": [
        "score = autoencoder.evaluate(x_test, x_test, verbose=0)\n",
        "print('Test Loss is', score[0], '.')\n",
        "print('Test Accuracy is', score[1],'.')"
      ],
      "execution_count": 0,
      "outputs": []
    },
    {
      "cell_type": "code",
      "metadata": {
        "id": "W_lk2nM-M4yG",
        "colab_type": "code",
        "colab": {}
      },
      "source": [
        "encoder = Model(input_img, encoded)\n",
        "json_encoder = encoder.to_json()\n",
        "with open(\"encoder.json\", \"w\") as json_file:\n",
        "    json_file.write(json_encoder)\n",
        "#encoder.save_weights(\"encoder_weights.h5\")\n",
        "encoder.save_weights('encoder_weights')"
      ],
      "execution_count": 0,
      "outputs": []
    }
  ]
}