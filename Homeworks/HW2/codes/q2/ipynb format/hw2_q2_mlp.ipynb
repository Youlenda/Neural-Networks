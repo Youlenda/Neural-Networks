{
  "nbformat": 4,
  "nbformat_minor": 0,
  "metadata": {
    "colab": {
      "name": "hw2-q2-mlp.ipynb",
      "provenance": [],
      "collapsed_sections": []
    },
    "kernelspec": {
      "name": "python3",
      "display_name": "Python 3"
    },
    "accelerator": "GPU"
  },
  "cells": [
    {
      "cell_type": "code",
      "metadata": {
        "id": "pXvdHvf0_JL4",
        "colab_type": "code",
        "colab": {}
      },
      "source": [
        "from keras.datasets import mnist\n",
        "from keras.utils import np_utils\n",
        "import numpy as np\n",
        "\n",
        "(x_train, y_train),(x_test, y_test) = mnist.load_data()\n",
        "x_train = x_train.reshape((60000, 784))\n",
        "x_test  = x_test.reshape ((10000, 784))\n",
        "\n",
        "x_train = x_train.astype('float32')\n",
        "x_test  = x_test.astype ('float32')\n",
        "\n",
        "x_train /= 255\n",
        "x_test  /= 255\n",
        "\n",
        "y_train = np_utils.to_categorical(y_train)\n",
        "y_test  = np_utils.to_categorical(y_test)"
      ],
      "execution_count": 0,
      "outputs": []
    },
    {
      "cell_type": "code",
      "metadata": {
        "id": "DHur0lfNNcp5",
        "colab_type": "code",
        "colab": {}
      },
      "source": [
        "from keras.models import load_model\n",
        "from keras.models import model_from_json\n",
        "\n",
        "json_file = open('encoder.json', 'r')\n",
        "loaded_model = json_file.read()\n",
        "json_file.close()\n",
        "encoder = model_from_json(loaded_model)\n",
        "encoder.load_weights(\"encoder_weights.dms\")\n",
        "print(\"Model loaded\")"
      ],
      "execution_count": 0,
      "outputs": []
    },
    {
      "cell_type": "code",
      "metadata": {
        "id": "8y2iTx7sNdig",
        "colab_type": "code",
        "colab": {}
      },
      "source": [
        "from keras.layers import Input, Dense\n",
        "from keras.models import Model\n",
        "\n",
        "mlp = Dense(512, activation='relu')(encoder.output)\n",
        "mlp = Dense(512, activation='relu')(mlp)\n",
        "mlp = Dense(10, activation='softmax')(mlp)\n",
        "\n",
        "autoencoder = Model(encoder.inputs, mlp)"
      ],
      "execution_count": 0,
      "outputs": []
    },
    {
      "cell_type": "code",
      "metadata": {
        "id": "B_jBzuS5NdlB",
        "colab_type": "code",
        "colab": {}
      },
      "source": [
        "from keras import optimizers\n",
        "\n",
        "sgd = optimizers.SGD(lr=0.01)\n",
        "autoencoder.compile(optimizer=sgd, loss='categorical_crossentropy', metrics=['accuracy'])\n",
        "\n",
        "autoencoder.summary()"
      ],
      "execution_count": 0,
      "outputs": []
    },
    {
      "cell_type": "code",
      "metadata": {
        "id": "EdCFWMWzvF6v",
        "colab_type": "code",
        "colab": {}
      },
      "source": [
        "import timeit\n",
        "\n",
        "start = timeit.default_timer()"
      ],
      "execution_count": 0,
      "outputs": []
    },
    {
      "cell_type": "code",
      "metadata": {
        "id": "6CSKn1zQNdnZ",
        "colab_type": "code",
        "colab": {}
      },
      "source": [
        "trained_model = autoencoder.fit(x_train, y_train, batch_size = 32, epochs = 30, validation_split = 0.2)\n",
        "history = trained_model.history"
      ],
      "execution_count": 0,
      "outputs": []
    },
    {
      "cell_type": "code",
      "metadata": {
        "id": "L7ISJNP8vGh-",
        "colab_type": "code",
        "colab": {}
      },
      "source": [
        "stop = timeit.default_timer()\n",
        "print('Time: ', stop - start) "
      ],
      "execution_count": 0,
      "outputs": []
    }
  ]
}