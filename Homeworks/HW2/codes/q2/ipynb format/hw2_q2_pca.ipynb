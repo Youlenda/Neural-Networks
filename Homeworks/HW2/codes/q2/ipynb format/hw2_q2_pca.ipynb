{
  "nbformat": 4,
  "nbformat_minor": 0,
  "metadata": {
    "colab": {
      "name": "hw2-q2-pca.ipynb",
      "provenance": [],
      "collapsed_sections": []
    },
    "kernelspec": {
      "name": "python3",
      "display_name": "Python 3"
    },
    "accelerator": "GPU"
  },
  "cells": [
    {
      "cell_type": "code",
      "metadata": {
        "id": "Udys4nZY1xkT",
        "colab_type": "code",
        "colab": {}
      },
      "source": [
        "from keras.datasets import mnist\n",
        "from keras.utils import np_utils\n",
        "\n",
        "(x_train, y_train),(x_test, y_test) = mnist.load_data()\n",
        "x_train = x_train.reshape(60000, 784)\n",
        "x_test  = x_test.reshape (10000, 784)\n",
        "\n",
        "x_train = x_train.astype('float32')\n",
        "x_test  = x_test.astype ('float32')\n",
        "\n",
        "x_train /= 255\n",
        "x_test  /= 255\n",
        "\n",
        "y_train = np_utils.to_categorical(y_train)\n",
        "y_test  = np_utils.to_categorical(y_test)"
      ],
      "execution_count": 0,
      "outputs": []
    },
    {
      "cell_type": "code",
      "metadata": {
        "id": "98jFE1TO17kf",
        "colab_type": "code",
        "colab": {}
      },
      "source": [
        "from sklearn.decomposition import PCA\n",
        "import numpy as np\n",
        "\n",
        "pca = PCA(n_components=100)\n",
        "x_train_pca = pca.fit_transform(x_train)\n",
        "x_test_pca  = pca.transform(x_test)\n",
        "explained_var = pca.explained_variance_ratio_\n",
        "np.sum(explained_var[0:100])\n",
        "pca_out = explained_var[0:100]"
      ],
      "execution_count": 0,
      "outputs": []
    },
    {
      "cell_type": "code",
      "metadata": {
        "id": "-cN3YKqV11dd",
        "colab_type": "code",
        "colab": {}
      },
      "source": [
        "from keras.models import Sequential\n",
        "from keras.layers import Dense\n",
        "\n",
        "net = Sequential()\n",
        "net.add(Dense(512, activation  = 'relu', input_shape = (100,)))\n",
        "net.add(Dense(512, activation  = 'relu'))\n",
        "net.add(Dense(10 , activation  = 'softmax'))"
      ],
      "execution_count": 0,
      "outputs": []
    },
    {
      "cell_type": "code",
      "metadata": {
        "id": "kd6CVAtK128H",
        "colab_type": "code",
        "colab": {}
      },
      "source": [
        "from keras import optimizers\n",
        "\n",
        "sgd = optimizers.SGD(lr=0.01)\n",
        "net.compile(optimizer=sgd, loss='categorical_crossentropy', metrics=['accuracy'])\n",
        "net.summary()"
      ],
      "execution_count": 0,
      "outputs": []
    },
    {
      "cell_type": "code",
      "metadata": {
        "id": "6PecNkdseght",
        "colab_type": "code",
        "colab": {}
      },
      "source": [
        "import timeit\n",
        "\n",
        "start = timeit.default_timer()"
      ],
      "execution_count": 0,
      "outputs": []
    },
    {
      "cell_type": "code",
      "metadata": {
        "id": "-ZGCEo_214ZH",
        "colab_type": "code",
        "colab": {}
      },
      "source": [
        "trained_model = net.fit(x_train_pca, y_train, batch_size = 32, epochs = 30, validation_split = 0.2)\n",
        "history = trained_model.history"
      ],
      "execution_count": 0,
      "outputs": []
    },
    {
      "cell_type": "code",
      "metadata": {
        "id": "CrK0qyRaeiT0",
        "colab_type": "code",
        "colab": {}
      },
      "source": [
        "stop = timeit.default_timer()\n",
        "print('Time: ', stop - start) "
      ],
      "execution_count": 0,
      "outputs": []
    }
  ]
}