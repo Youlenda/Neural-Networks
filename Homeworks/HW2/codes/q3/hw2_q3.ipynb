{
  "nbformat": 4,
  "nbformat_minor": 0,
  "metadata": {
    "colab": {
      "name": "hw2-q3.ipynb",
      "provenance": [],
      "collapsed_sections": []
    },
    "kernelspec": {
      "name": "python3",
      "display_name": "Python 3"
    }
  },
  "cells": [
    {
      "cell_type": "code",
      "metadata": {
        "id": "lYarT4c8GoBD",
        "colab_type": "code",
        "colab": {}
      },
      "source": [
        "from keras.datasets import mnist\n",
        "from keras.utils import np_utils\n",
        "import numpy as np\n",
        "\n",
        "(x_train, y_train),(x_test, y_test) = mnist.load_data()\n",
        "x_train = x_train.reshape((60000, 784))\n",
        "x_test  = x_test.reshape ((10000, 784))\n",
        "\n",
        "x_train = x_train.astype('float32')\n",
        "x_test  = x_test.astype ('float32')\n",
        "\n",
        "x_train /= 255\n",
        "x_test  /= 255\n",
        "\n",
        "y_train = np_utils.to_categorical(y_train)\n",
        "y_test  = np_utils.to_categorical(y_test)"
      ],
      "execution_count": 0,
      "outputs": []
    },
    {
      "cell_type": "code",
      "metadata": {
        "id": "bEC8o0qUGr5h",
        "colab_type": "code",
        "colab": {}
      },
      "source": [
        "from sklearn.neural_network import BernoulliRBM\n",
        "\n",
        "rbm = BernoulliRBM(n_components=100, learning_rate=0.01, batch_size=32, n_iter=10, verbose=True, random_state=None)\n",
        "rbm.fit(x_train)\n",
        "train=rbm.transform(x_train)\n",
        "test=rbm.transform(x_test)"
      ],
      "execution_count": 0,
      "outputs": []
    },
    {
      "cell_type": "code",
      "metadata": {
        "id": "gB57uQaqHXGA",
        "colab_type": "code",
        "colab": {}
      },
      "source": [
        "from keras.layers import Input, Dense\n",
        "from keras.models import Sequential\n",
        "from keras.models import Model\n",
        "\n",
        "net = Sequential()\n",
        "net.add(Dense(512, activation = 'relu', input_dim=100, kernel_initializer='normal'))\n",
        "net.add(Dense(512, activation  = 'relu'))\n",
        "net.add(Dense(10 , activation  = 'softmax'))"
      ],
      "execution_count": 0,
      "outputs": []
    },
    {
      "cell_type": "code",
      "metadata": {
        "id": "E2edZt1XIe2l",
        "colab_type": "code",
        "colab": {}
      },
      "source": [
        "from keras import optimizers\n",
        "\n",
        "sgd = optimizers.SGD(lr=0.01)\n",
        "net.compile(optimizer=sgd, loss='categorical_crossentropy', metrics=['accuracy'])\n",
        "net.summary()"
      ],
      "execution_count": 0,
      "outputs": []
    },
    {
      "cell_type": "code",
      "metadata": {
        "id": "YNNnHvYFIe9a",
        "colab_type": "code",
        "colab": {}
      },
      "source": [
        "import timeit\n",
        "\n",
        "start = timeit.default_timer()"
      ],
      "execution_count": 0,
      "outputs": []
    },
    {
      "cell_type": "code",
      "metadata": {
        "id": "VYeHtvT1IfAD",
        "colab_type": "code",
        "colab": {}
      },
      "source": [
        "trained_model = net.fit(train, y_train, batch_size = 32, epochs = 30, validation_split = 0.2)\n",
        "history = trained_model.history"
      ],
      "execution_count": 0,
      "outputs": []
    },
    {
      "cell_type": "code",
      "metadata": {
        "id": "EXpshqWSIkIk",
        "colab_type": "code",
        "colab": {}
      },
      "source": [
        "stop = timeit.default_timer()\n",
        "print('Time: ', stop - start) "
      ],
      "execution_count": 0,
      "outputs": []
    }
  ]
}